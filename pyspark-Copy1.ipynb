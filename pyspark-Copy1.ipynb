{
 "cells": [
  {
   "cell_type": "markdown",
   "metadata": {},
   "source": [
    "# MapReduce using SPARK"
   ]
  },
  {
   "cell_type": "code",
   "execution_count": 1,
   "metadata": {},
   "outputs": [
    {
     "name": "stdout",
     "output_type": "stream",
     "text": [
      "Populating the interactive namespace from numpy and matplotlib\n"
     ]
    }
   ],
   "source": [
    "%pylab inline\n",
    "import pandas as pd\n",
    "import seaborn as sns\n",
    "pd.set_option('display.width', 500)\n",
    "pd.set_option('display.max_columns', 100)"
   ]
  },
  {
   "cell_type": "markdown",
   "metadata": {},
   "source": [
    "# Table of Contents\n",
    "\n",
    "* [SPARK](#SPARK)\n",
    "    * Installing Spark locally\n",
    "* [Spark Context](#Spark-Context)\n",
    "    * [Create A RDD](#Create-A-RDD)\n",
    "    * [Call `collect` on an RDD: Lazy Spark](#Call-collect-on-an-RDD:-Lazy-Spark)\n",
    "    * [Operations on RDDs](#Operations-on-RDDs)\n",
    "    * [Word Examples](#Word-Examples)\n",
    "    * [Key Value Pairs](#Key-Value-Pairs)\n",
    "    * [word count 1](#word-count-1)\n",
    "    * [word count 2:  `reduceByKey()`](#word-count-2:--reduceByKey%28%29)\n",
    "    * [Nested Syntax](#Nested-Syntax)\n",
    "    * [Using Cache](#Using-Cache)\n",
    "    * [Fun with words](#Fun-with-words)\n",
    "    * [DataFrames](#DataFrames)\n",
    "    * [Machine Learning](#Machine-Learning)\n"
   ]
  },
  {
   "cell_type": "markdown",
   "metadata": {
    "slideshow": {
     "slide_type": "slide"
    }
   },
   "source": [
    "With shameless stealing of some code and text from:\n",
    "\n",
    "- https://github.com/tdhopper/rta-pyspark-presentation/blob/master/slides.ipynb\n",
    "- Databricks and Berkeley Spark MOOC: https://www.edx.org/course/introduction-big-data-apache-spark-uc-berkeleyx-cs100-1x\n",
    "\n",
    "which you should go check out."
   ]
  },
  {
   "cell_type": "markdown",
   "metadata": {},
   "source": [
    "## Installing Spark locally\n",
    "\n",
    "\n",
    "**Step 1: Install Apache Spark**\n",
    "\n",
    "For example, for Mac users using Homebrew:\n",
    "\n",
    "```\n",
    "$ brew install apache-spark\n",
    "```"
   ]
  },
  {
   "cell_type": "markdown",
   "metadata": {},
   "source": [
    "**Step 2: Install the Java SDK version 1.8 or above for your platform (not just the JRE runtime)**\n",
    "\n",
    "Make sure you can access commands such as `java` on your command line."
   ]
  },
  {
   "cell_type": "markdown",
   "metadata": {},
   "source": [
    "**Step 3: Install the latest findspark package using pip**\n",
    "\n",
    "```\n",
    "➜  ~  pip install findspark\n",
    "Collecting findspark\n",
    "  Downloading findspark-0.0.5-py2.py3-none-any.whl\n",
    "Installing collected packages: findspark\n",
    "Successfully installed findspark-0.0.5\n",
    "```"
   ]
  },
  {
   "cell_type": "markdown",
   "metadata": {
    "slideshow": {
     "slide_type": "slide"
    }
   },
   "source": [
    "# Spark Context\n",
    "\n",
    "You can also use it directly from the notebook interface on the mac if you installed `apache-spark` using `brew` and also installed `findspark` above."
   ]
  },
  {
   "cell_type": "code",
   "execution_count": 2,
   "metadata": {},
   "outputs": [],
   "source": [
    "import findspark\n",
    "findspark.init()\n",
    "import pyspark\n",
    "sc = pyspark.SparkContext()"
   ]
  },
  {
   "cell_type": "markdown",
   "metadata": {},
   "source": [
    "It also output's a bunch of stuff on my terminal. This is because the entire java context is started up.\n",
    "\n",
    "```Using Spark's default log4j profile: org/apache/spark/log4j-defaults.properties\n",
    "15/10/21 14:46:15 INFO SparkContext: Running Spark version 1.4.0\n",
    "2015-10-21 14:46:15.774 java[30685:c003] Unable to load realm info from SCDynamicStore\n",
    "15/10/21 14:46:15 WARN NativeCodeLoader: Unable to load native-hadoop library for your platform... using builtin-java classes where applicable\n",
    "15/10/21 14:46:15 INFO SecurityManager: Changing view acls to: rahul\n",
    "15/10/21 14:46:15 INFO SecurityManager: Changing modify acls to: rahul\n",
    "15/10/21 14:46:15 INFO SecurityManager: SecurityManager: authentication disabled; ui acls disabled; users with view permissions: Set(rahul); users with modify permissions: Set(rahul)\n",
    "15/10/21 14:46:16 INFO Slf4jLogger: Slf4jLogger started\n",
    "15/10/21 14:46:16 INFO Remoting: Starting remoting\n",
    "15/10/21 14:46:16 INFO Remoting: Remoting started; listening on addresses :[akka.tcp://sparkDriver@10.251.101.163:64359]\n",
    "15/10/21 14:46:16 INFO Utils: Successfully started service 'sparkDriver' on port 64359.\n",
    "15/10/21 14:46:16 INFO SparkEnv: Registering MapOutputTracker\n",
    "15/10/21 14:46:16 INFO SparkEnv: Registering BlockManagerMaster\n",
    "15/10/21 14:46:16 INFO DiskBlockManager: Created local directory at /private/var/folders/_f/y76rs29s3c57ykwyz9c8z12c0000gn/T/spark-00a4e09e-e5db-485f-81dc-2e5016e9a27e/blockmgr-8966e07c-223b-4c38-9273-11543aa9d3c1\n",
    "15/10/21 14:46:16 INFO MemoryStore: MemoryStore started with capacity 273.0 MB\n",
    "15/10/21 14:46:16 INFO HttpFileServer: HTTP File server directory is /private/var/folders/_f/y76rs29s3c57ykwyz9c8z12c0000gn/T/spark-00a4e09e-e5db-485f-81dc-2e5016e9a27e/httpd-6af0a9e0-1cfe-42c4-a1bd-e01715b98436\n",
    "15/10/21 14:46:16 INFO HttpServer: Starting HTTP Server\n",
    "15/10/21 14:46:17 INFO Utils: Successfully started service 'HTTP file server' on port 64360.\n",
    "15/10/21 14:46:17 INFO SparkEnv: Registering OutputCommitCoordinator\n",
    "15/10/21 14:46:18 INFO Utils: Successfully started service 'SparkUI' on port 4040.\n",
    "15/10/21 14:46:18 INFO SparkUI: Started SparkUI at http://10.251.101.163:4040\n",
    "15/10/21 14:46:18 INFO Executor: Starting executor ID driver on host localhost\n",
    "15/10/21 14:46:18 INFO Utils: Successfully started service 'org.apache.spark.network.netty.NettyBlockTransferService' on port 64361.\n",
    "15/10/21 14:46:18 INFO NettyBlockTransferService: Server created on 64361\n",
    "15/10/21 14:46:18 INFO BlockManagerMaster: Trying to register BlockManager\n",
    "15/10/21 14:46:18 INFO BlockManagerMasterEndpoint: Registering block manager localhost:64361 with 273.0 MB RAM, BlockManagerId(driver, localhost, 64361)\n",
    "15/10/21 14:46:18 INFO BlockManagerMaster: Registered BlockManager\n",
    "```"
   ]
  },
  {
   "cell_type": "code",
   "execution_count": 3,
   "metadata": {},
   "outputs": [
    {
     "data": {
      "text/html": [
       "\n",
       "        <div>\n",
       "            <p><b>SparkContext</b></p>\n",
       "\n",
       "            <p><a href=\"http://192.168.1.4:4040\">Spark UI</a></p>\n",
       "\n",
       "            <dl>\n",
       "              <dt>Version</dt>\n",
       "                <dd><code>v2.2.0</code></dd>\n",
       "              <dt>Master</dt>\n",
       "                <dd><code>local[*]</code></dd>\n",
       "              <dt>AppName</dt>\n",
       "                <dd><code>pyspark-shell</code></dd>\n",
       "            </dl>\n",
       "        </div>\n",
       "        "
      ],
      "text/plain": [
       "<SparkContext master=local[*] appName=pyspark-shell>"
      ]
     },
     "execution_count": 3,
     "metadata": {},
     "output_type": "execute_result"
    }
   ],
   "source": [
    "sc"
   ]
  },
  {
   "cell_type": "code",
   "execution_count": 4,
   "metadata": {},
   "outputs": [
    {
     "data": {
      "text/plain": [
       "385"
      ]
     },
     "execution_count": 4,
     "metadata": {},
     "output_type": "execute_result"
    }
   ],
   "source": [
    "sc.parallelize([1, 2, 3, 4, 5, 6, 7, 8, 9, 10]).map(lambda x: x**2).sum()"
   ]
  },
  {
   "cell_type": "markdown",
   "metadata": {
    "slideshow": {
     "slide_type": "slide"
    }
   },
   "source": [
    "### Create A RDD\n"
   ]
  },
  {
   "cell_type": "code",
   "execution_count": 6,
   "metadata": {},
   "outputs": [
    {
     "name": "stdout",
     "output_type": "stream",
     "text": [
      "<class 'pyspark.rdd.RDD'>\n"
     ]
    }
   ],
   "source": [
    "wordsList = ['cat', 'elephant', 'rat', 'rat', 'cat']\n",
    "wordsRDD = sc.parallelize(wordsList, 4)\n",
    "# Print out the type of wordsRDD\n",
    "print(type(wordsRDD))"
   ]
  },
  {
   "cell_type": "markdown",
   "metadata": {
    "slideshow": {
     "slide_type": "slide"
    }
   },
   "source": [
    "### Call `collect` on an RDD: Lazy Spark"
   ]
  },
  {
   "cell_type": "markdown",
   "metadata": {},
   "source": [
    "Spark is lazy. Until you `collect`, nothing is actually run.\n",
    "\n",
    ">Instead, they just remember the transformations applied to some base dataset (e.g. a file). The transformations are only computed when an action requires a result to be returned to the driver program."
   ]
  },
  {
   "cell_type": "code",
   "execution_count": 7,
   "metadata": {},
   "outputs": [
    {
     "data": {
      "text/plain": [
       "['cat', 'elephant', 'rat', 'rat', 'cat']"
      ]
     },
     "execution_count": 7,
     "metadata": {},
     "output_type": "execute_result"
    }
   ],
   "source": [
    "wordsRDD.collect()"
   ]
  },
  {
   "cell_type": "markdown",
   "metadata": {},
   "source": [
    "```\n",
    "15/10/21 14:59:59 INFO SparkContext: Starting job: collect at <ipython-input-6-dee494da0714>:1\n",
    "15/10/21 14:59:59 INFO DAGScheduler: Got job 0 (collect at <ipython-input-6-dee494da0714>:1) with 4 output partitions (allowLocal=false)\n",
    "15/10/21 14:59:59 INFO DAGScheduler: Final stage: ResultStage 0(collect at <ipython-input-6-dee494da0714>:1)\n",
    "15/10/21 14:59:59 INFO DAGScheduler: Parents of final stage: List()\n",
    "15/10/21 14:59:59 INFO DAGScheduler: Missing parents: List()\n",
    "15/10/21 14:59:59 INFO DAGScheduler: Submitting ResultStage 0 (ParallelCollectionRDD[0] at parallelize at PythonRDD.scala:396), which has no missing parents\n",
    "15/10/21 15:00:00 INFO MemoryStore: ensureFreeSpace(1224) called with curMem=0, maxMem=286300569\n",
    "15/10/21 15:00:00 INFO MemoryStore: Block broadcast_0 stored as values in memory (estimated size 1224.0 B, free 273.0 MB)\n",
    "15/10/21 15:00:00 INFO MemoryStore: ensureFreeSpace(777) called with curMem=1224, maxMem=286300569\n",
    "15/10/21 15:00:00 INFO MemoryStore: Block broadcast_0_piece0 stored as bytes in memory (estimated size 777.0 B, free 273.0 MB)\n",
    "15/10/21 15:00:00 INFO BlockManagerInfo: Added broadcast_0_piece0 in memory on localhost:64361 (size: 777.0 B, free: 273.0 MB)\n",
    "15/10/21 15:00:00 INFO SparkContext: Created broadcast 0 from broadcast at DAGScheduler.scala:874\n",
    "15/10/21 15:00:00 INFO DAGScheduler: Submitting 4 missing tasks from ResultStage 0 (ParallelCollectionRDD[0] at parallelize at PythonRDD.scala:396)\n",
    "15/10/21 15:00:00 INFO TaskSchedulerImpl: Adding task set 0.0 with 4 tasks\n",
    "15/10/21 15:00:00 INFO TaskSetManager: Starting task 0.0 in stage 0.0 (TID 0, localhost, PROCESS_LOCAL, 1379 bytes)\n",
    "15/10/21 15:00:00 INFO TaskSetManager: Starting task 1.0 in stage 0.0 (TID 1, localhost, PROCESS_LOCAL, 1384 bytes)\n",
    "15/10/21 15:00:00 INFO TaskSetManager: Starting task 2.0 in stage 0.0 (TID 2, localhost, PROCESS_LOCAL, 1379 bytes)\n",
    "15/10/21 15:00:00 INFO TaskSetManager: Starting task 3.0 in stage 0.0 (TID 3, localhost, PROCESS_LOCAL, 1403 bytes)\n",
    "15/10/21 15:00:00 INFO Executor: Running task 0.0 in stage 0.0 (TID 0)\n",
    "15/10/21 15:00:00 INFO Executor: Running task 2.0 in stage 0.0 (TID 2)\n",
    "15/10/21 15:00:00 INFO Executor: Running task 1.0 in stage 0.0 (TID 1)\n",
    "15/10/21 15:00:00 INFO Executor: Running task 3.0 in stage 0.0 (TID 3)\n",
    "15/10/21 15:00:00 INFO Executor: Finished task 1.0 in stage 0.0 (TID 1). 646 bytes result sent to driver\n",
    "15/10/21 15:00:00 INFO Executor: Finished task 3.0 in stage 0.0 (TID 3). 665 bytes result sent to driver\n",
    "15/10/21 15:00:00 INFO Executor: Finished task 0.0 in stage 0.0 (TID 0). 641 bytes result sent to driver\n",
    "15/10/21 15:00:00 INFO Executor: Finished task 2.0 in stage 0.0 (TID 2). 641 bytes result sent to driver\n",
    "15/10/21 15:00:00 INFO TaskSetManager: Finished task 1.0 in stage 0.0 (TID 1) in 61 ms on localhost (1/4)\n",
    "15/10/21 15:00:00 INFO TaskSetManager: Finished task 3.0 in stage 0.0 (TID 3) in 60 ms on localhost (2/4)\n",
    "15/10/21 15:00:00 INFO TaskSetManager: Finished task 0.0 in stage 0.0 (TID 0) in 96 ms on localhost (3/4)\n",
    "15/10/21 15:00:00 INFO TaskSetManager: Finished task 2.0 in stage 0.0 (TID 2) in 63 ms on localhost (4/4)\n",
    "15/10/21 15:00:00 INFO DAGScheduler: ResultStage 0 (collect at <ipython-input-6-dee494da0714>:1) finished in 0.120 s\n",
    "15/10/21 15:00:00 INFO TaskSchedulerImpl: Removed TaskSet 0.0, whose tasks have all completed, from pool\n",
    "15/10/21 15:00:00 INFO DAGScheduler: Job 0 finished: collect at <ipython-input-6-dee494da0714>:1, took 0.872367 s\n",
    "```"
   ]
  },
  {
   "cell_type": "markdown",
   "metadata": {},
   "source": [
    "### Operations on RDDs"
   ]
  },
  {
   "cell_type": "markdown",
   "metadata": {},
   "source": [
    "From the Spark Programming Guide:\n",
    "\n",
    ">RDDs support two types of operations: transformations, which create a new dataset from an existing one, and actions, which return a value to the driver program after running a computation on the dataset. For example, map is a transformation that passes each dataset element through a function and returns a new RDD representing the results. On the other hand, reduce is an action that aggregates all the elements of the RDD using some function and returns the final result to the driver program (although there is also a parallel reduceByKey that returns a distributed dataset)."
   ]
  },
  {
   "cell_type": "markdown",
   "metadata": {},
   "source": [
    "### Word Examples"
   ]
  },
  {
   "cell_type": "code",
   "execution_count": 9,
   "metadata": {},
   "outputs": [
    {
     "name": "stdout",
     "output_type": "stream",
     "text": [
      "cats\n"
     ]
    }
   ],
   "source": [
    "def makePlural(word):\n",
    "    return word + 's'\n",
    "\n",
    "print(makePlural('cat'))"
   ]
  },
  {
   "cell_type": "markdown",
   "metadata": {},
   "source": [
    "Transform one RDD into another."
   ]
  },
  {
   "cell_type": "code",
   "execution_count": 10,
   "metadata": {},
   "outputs": [
    {
     "name": "stdout",
     "output_type": "stream",
     "text": [
      "cats\n",
      "['cats', 'elephants']\n"
     ]
    }
   ],
   "source": [
    "pluralRDD = wordsRDD.map(makePlural)\n",
    "print(pluralRDD.first())\n",
    "print(pluralRDD.take(2))\n"
   ]
  },
  {
   "cell_type": "code",
   "execution_count": 11,
   "metadata": {},
   "outputs": [
    {
     "data": {
      "text/plain": [
       "['cats']"
      ]
     },
     "execution_count": 11,
     "metadata": {},
     "output_type": "execute_result"
    }
   ],
   "source": [
    "pluralRDD.take(1)"
   ]
  },
  {
   "cell_type": "code",
   "execution_count": 12,
   "metadata": {},
   "outputs": [
    {
     "data": {
      "text/plain": [
       "['cats', 'elephants', 'rats', 'rats', 'cats']"
      ]
     },
     "execution_count": 12,
     "metadata": {},
     "output_type": "execute_result"
    }
   ],
   "source": [
    "pluralRDD.collect()"
   ]
  },
  {
   "cell_type": "markdown",
   "metadata": {
    "slideshow": {
     "slide_type": "slide"
    }
   },
   "source": [
    "### Key Value Pairs"
   ]
  },
  {
   "cell_type": "code",
   "execution_count": 14,
   "metadata": {},
   "outputs": [
    {
     "name": "stdout",
     "output_type": "stream",
     "text": [
      "[('cat', 1), ('elephant', 1), ('rat', 1), ('rat', 1), ('cat', 1)]\n"
     ]
    }
   ],
   "source": [
    "wordPairs = wordsRDD.map(lambda w: (w, 1))\n",
    "print(wordPairs.collect())"
   ]
  },
  {
   "cell_type": "markdown",
   "metadata": {},
   "source": [
    "```\n",
    "➜  sparklect  ps auxwww | grep pyspark\n",
    "rahul           30685   0.4  0.8  3458120  68712 s012  S+    2:46PM   2:00.21 /System/Library/Java/JavaVirtualMachines/1.6.0.jdk/Contents/Home/bin/java -cp /usr/local/opt/apache-spark/libexec/conf/:/usr/local/opt/apache-spark/libexec/lib/spark-assembly-1.4.0-hadoop2.6.0.jar:/usr/local/opt/apache-spark/libexec/lib/datanucleus-api-jdo-3.2.6.jar:/usr/local/opt/apache-spark/libexec/lib/datanucleus-core-3.2.10.jar:/usr/local/opt/apache-spark/libexec/lib/datanucleus-rdbms-3.2.9.jar -Xms512m -Xmx512m -XX:MaxPermSize=128m org.apache.spark.deploy.SparkSubmit pyspark-shell\n",
    "rahul           31520   0.0  0.0  2432784    480 s011  R+    6:42PM   0:00.00 grep --color=auto --exclude-dir=.bzr --exclude-dir=.cvs --exclude-dir=.git --exclude-dir=.hg --exclude-dir=.svn pyspark\n",
    "rahul           31494   0.0  0.7  2548972  57288 s012  S     6:41PM   0:00.10 python -m pyspark.daemon\n",
    "rahul           31493   0.0  0.7  2548972  57308 s012  S     6:41PM   0:00.10 python -m pyspark.daemon\n",
    "rahul           31492   0.0  0.7  2548972  57288 s012  S     6:41PM   0:00.11 python -m pyspark.daemon\n",
    "rahul           31446   0.0  0.8  2548972  68460 s012  S     6:35PM   0:01.34 python -m pyspark.daemon\n",
    "```"
   ]
  },
  {
   "cell_type": "markdown",
   "metadata": {
    "slideshow": {
     "slide_type": "slide"
    }
   },
   "source": [
    "### WORD COUNT!\n",
    "\n",
    "This little exercise shows how to use mapreduce to calculate the counts of individual words in a list."
   ]
  },
  {
   "cell_type": "code",
   "execution_count": 15,
   "metadata": {},
   "outputs": [
    {
     "name": "stdout",
     "output_type": "stream",
     "text": [
      "[('cat', 2), ('elephant', 1), ('rat', 2)]\n"
     ]
    }
   ],
   "source": [
    "wordsList = ['cat', 'elephant', 'rat', 'rat', 'cat']\n",
    "wordsRDD = sc.parallelize(wordsList, 4)\n",
    "wordCountsCollected = (wordsRDD\n",
    "                       .map(lambda w: (w, 1))\n",
    "                       .reduceByKey(lambda x,y: x+y)\n",
    "                       .collect())\n",
    "print(wordCountsCollected)"
   ]
  },
  {
   "cell_type": "markdown",
   "metadata": {
    "slideshow": {
     "slide_type": "slide"
    }
   },
   "source": [
    "![Tons of shuffling](https://databricks.gitbooks.io/databricks-spark-knowledge-base/content/images/reduce_by.png)"
   ]
  },
  {
   "cell_type": "code",
   "execution_count": 16,
   "metadata": {},
   "outputs": [
    {
     "name": "stdout",
     "output_type": "stream",
     "text": [
      "b'(4) PythonRDD[19] at RDD at PythonRDD.scala:48 []\\n |  MapPartitionsRDD[18] at mapPartitions at PythonRDD.scala:427 []\\n |  ShuffledRDD[17] at partitionBy at <unknown>:0 []\\n +-(4) PairwiseRDD[16] at reduceByKey at <ipython-input-16-a46b488739a0>:3 []\\n    |  PythonRDD[15] at reduceByKey at <ipython-input-16-a46b488739a0>:3 []\\n    |  ParallelCollectionRDD[9] at parallelize at PythonRDD.scala:480 []'\n"
     ]
    }
   ],
   "source": [
    "print((wordsRDD\n",
    "    .map(lambda w: (w, 1))\n",
    "    .reduceByKey(lambda x,y: x+y)).toDebugString())"
   ]
  },
  {
   "cell_type": "markdown",
   "metadata": {
    "slideshow": {
     "slide_type": "slide"
    }
   },
   "source": [
    "### Using Cache"
   ]
  },
  {
   "cell_type": "code",
   "execution_count": 17,
   "metadata": {},
   "outputs": [
    {
     "name": "stdout",
     "output_type": "stream",
     "text": [
      "ParallelCollectionRDD[20] at parallelize at PythonRDD.scala:480\n"
     ]
    },
    {
     "data": {
      "text/plain": [
       "5"
      ]
     },
     "execution_count": 17,
     "metadata": {},
     "output_type": "execute_result"
    }
   ],
   "source": [
    "wordsList = ['cat', 'elephant', 'rat', 'rat', 'cat']\n",
    "wordsRDD = sc.parallelize(wordsList, 4)\n",
    "print(wordsRDD)\n",
    "wordsRDD.count()"
   ]
  },
  {
   "cell_type": "markdown",
   "metadata": {},
   "source": [
    "Normally, every operation is run from the start. This may be inefficient in many cases. So when appropriate, we may want to cache the result the first time an operation is run on an RDD."
   ]
  },
  {
   "cell_type": "code",
   "execution_count": 18,
   "metadata": {},
   "outputs": [
    {
     "data": {
      "text/plain": [
       "5"
      ]
     },
     "execution_count": 18,
     "metadata": {},
     "output_type": "execute_result"
    }
   ],
   "source": [
    "#this is rerun from the start\n",
    "wordsRDD.count()"
   ]
  },
  {
   "cell_type": "code",
   "execution_count": 19,
   "metadata": {},
   "outputs": [
    {
     "data": {
      "text/plain": [
       "ParallelCollectionRDD[20] at parallelize at PythonRDD.scala:480"
      ]
     },
     "execution_count": 19,
     "metadata": {},
     "output_type": "execute_result"
    }
   ],
   "source": [
    "#default storage level (MEMORY_ONLY)\n",
    "wordsRDD.cache()#nothing done this is still lazy"
   ]
  },
  {
   "cell_type": "code",
   "execution_count": 20,
   "metadata": {},
   "outputs": [
    {
     "data": {
      "text/plain": [
       "5"
      ]
     },
     "execution_count": 20,
     "metadata": {},
     "output_type": "execute_result"
    }
   ],
   "source": [
    "#parallelize is rerun and cached because we told it to cache\n",
    "wordsRDD.count()"
   ]
  },
  {
   "cell_type": "code",
   "execution_count": null,
   "metadata": {
    "collapsed": true
   },
   "outputs": [],
   "source": [
    "#this `sc.parallelize` is not rerun in this case\n",
    "wordsRDD.count()"
   ]
  },
  {
   "cell_type": "markdown",
   "metadata": {},
   "source": [
    "Where is this useful: it is when you have branching parts or loops, so that you dont do things again and again. Spark, being \"lazy\" will rerun the chain again. So `cache` or `persist` serves as a checkpoint, breaking the RDD chain or the *lineage*."
   ]
  },
  {
   "cell_type": "code",
   "execution_count": 21,
   "metadata": {},
   "outputs": [
    {
     "data": {
      "text/plain": [
       "{'cat': 'mammal',\n",
       " 'elephant': 'mammal',\n",
       " 'heron': 'bird',\n",
       " 'owl': 'bird',\n",
       " 'rat': 'mammal'}"
      ]
     },
     "execution_count": 21,
     "metadata": {},
     "output_type": "execute_result"
    }
   ],
   "source": [
    "birdsList=['heron','owl']\n",
    "animList=wordsList+birdsList\n",
    "animaldict={}\n",
    "for e in wordsList:\n",
    "    animaldict[e]='mammal'\n",
    "for e in birdsList:\n",
    "    animaldict[e]='bird'\n",
    "animaldict"
   ]
  },
  {
   "cell_type": "code",
   "execution_count": 22,
   "metadata": {},
   "outputs": [
    {
     "name": "stdout",
     "output_type": "stream",
     "text": [
      "5 2\n"
     ]
    }
   ],
   "source": [
    "animsrdd = sc.parallelize(animList, 4)\n",
    "animsrdd.cache()\n",
    "#below runs the whole chain but causes cache to be populated\n",
    "mammalcount=animsrdd.filter(lambda w: animaldict[w]=='mammal').count()\n",
    "#now only the filter is carried out\n",
    "birdcount=animsrdd.filter(lambda w: animaldict[w]=='bird').count()\n",
    "print(mammalcount, birdcount)"
   ]
  },
  {
   "cell_type": "code",
   "execution_count": null,
   "metadata": {
    "collapsed": true
   },
   "outputs": [],
   "source": []
  },
  {
   "cell_type": "markdown",
   "metadata": {},
   "source": [
    "### Exercises: Fun with MapReduce\n",
    "\n",
    "Read http://spark.apache.org/docs/latest/programming-guide.html for some useful background and then try out the following exercises"
   ]
  },
  {
   "cell_type": "markdown",
   "metadata": {},
   "source": [
    "The file `./sparklect/english.stop.txt` contains a list of English stopwords, while the file `./sparklect/shakes/juliuscaesar.txt` contains the entire text of Shakespeare's 'Julius Caesar'.\n",
    "\n",
    "* Load all of the stopwords into a Python list\n",
    "* Load the text of Julius Caesar into an RDD using the `sparkcontext.textfile()` method. Call it `juliusrdd`."
   ]
  },
  {
   "cell_type": "code",
   "execution_count": 36,
   "metadata": {
    "scrolled": true
   },
   "outputs": [
    {
     "name": "stdout",
     "output_type": "stream",
     "text": [
      "['a', \"a's\", 'able', 'about', 'above', 'according', 'accordingly', 'across', 'actually', 'after', 'afterwards', 'again', 'against', \"ain't\", 'all', 'allow', 'allows', 'almost', 'alone', 'along', 'already', 'also', 'although', 'always', 'am', 'among', 'amongst', 'an', 'and', 'another', 'any', 'anybody', 'anyhow', 'anyone', 'anything', 'anyway', 'anyways', 'anywhere', 'apart', 'appear', 'appreciate', 'appropriate', 'are', \"aren't\", 'around', 'as', 'aside', 'ask', 'asking', 'associated', 'at', 'available', 'away', 'awfully', 'b', 'be', 'became', 'because', 'become', 'becomes', 'becoming', 'been', 'before', 'beforehand', 'behind', 'being', 'believe', 'below', 'beside', 'besides', 'best', 'better', 'between', 'beyond', 'both', 'brief', 'but', 'by', 'c', \"c'mon\", \"c's\", 'came', 'can', \"can't\", 'cannot', 'cant', 'cause', 'causes', 'certain', 'certainly', 'changes', 'clearly', 'co', 'com', 'come', 'comes', 'concerning', 'consequently', 'consider', 'considering', 'contain', 'containing', 'contains', 'corresponding', 'could', \"couldn't\", 'course', 'currently', 'd', 'definitely', 'described', 'despite', 'did', \"didn't\", 'different', 'do', 'does', \"doesn't\", 'doing', \"don't\", 'done', 'down', 'downwards', 'during', 'e', 'each', 'edu', 'eg', 'eight', 'either', 'else', 'elsewhere', 'enough', 'entirely', 'especially', 'et', 'etc', 'even', 'ever', 'every', 'everybody', 'everyone', 'everything', 'everywhere', 'ex', 'exactly', 'example', 'except', 'f', 'far', 'few', 'fifth', 'first', 'five', 'followed', 'following', 'follows', 'for', 'former', 'formerly', 'forth', 'four', 'from', 'further', 'furthermore', 'g', 'get', 'gets', 'getting', 'given', 'gives', 'go', 'goes', 'going', 'gone', 'got', 'gotten', 'greetings', 'h', 'had', \"hadn't\", 'happens', 'hardly', 'has', \"hasn't\", 'have', \"haven't\", 'having', 'he', \"he's\", 'hello', 'help', 'hence', 'her', 'here', \"here's\", 'hereafter', 'hereby', 'herein', 'hereupon', 'hers', 'herself', 'hi', 'him', 'himself', 'his', 'hither', 'hopefully', 'how', 'howbeit', 'however', 'i', \"i'd\", \"i'll\", \"i'm\", \"i've\", 'ie', 'if', 'ignored', 'immediate', 'in', 'inasmuch', 'inc', 'indeed', 'indicate', 'indicated', 'indicates', 'inner', 'insofar', 'instead', 'into', 'inward', 'is', \"isn't\", 'it', \"it'd\", \"it'll\", \"it's\", 'its', 'itself', 'j', 'just', 'k', 'keep', 'keeps', 'kept', 'know', 'knows', 'known', 'l', 'last', 'lately', 'later', 'latter', 'latterly', 'least', 'less', 'lest', 'let', \"let's\", 'like', 'liked', 'likely', 'little', 'look', 'looking', 'looks', 'ltd', 'm', 'mainly', 'many', 'may', 'maybe', 'me', 'mean', 'meanwhile', 'merely', 'might', 'more', 'moreover', 'most', 'mostly', 'much', 'must', 'my', 'myself', 'n', 'name', 'namely', 'nd', 'near', 'nearly', 'necessary', 'need', 'needs', 'neither', 'never', 'nevertheless', 'new', 'next', 'nine', 'no', 'nobody', 'non', 'none', 'noone', 'nor', 'normally', 'not', 'nothing', 'novel', 'now', 'nowhere', 'o', 'obviously', 'of', 'off', 'often', 'oh', 'ok', 'okay', 'old', 'on', 'once', 'one', 'ones', 'only', 'onto', 'or', 'other', 'others', 'otherwise', 'ought', 'our', 'ours', 'ourselves', 'out', 'outside', 'over', 'overall', 'own', 'p', 'particular', 'particularly', 'per', 'perhaps', 'placed', 'please', 'plus', 'possible', 'presumably', 'probably', 'provides', 'q', 'que', 'quite', 'qv', 'r', 'rather', 'rd', 're', 'really', 'reasonably', 'regarding', 'regardless', 'regards', 'relatively', 'respectively', 'right', 's', 'said', 'same', 'saw', 'say', 'saying', 'says', 'second', 'secondly', 'see', 'seeing', 'seem', 'seemed', 'seeming', 'seems', 'seen', 'self', 'selves', 'sensible', 'sent', 'serious', 'seriously', 'seven', 'several', 'shall', 'she', 'should', \"shouldn't\", 'since', 'six', 'so', 'some', 'somebody', 'somehow', 'someone', 'something', 'sometime', 'sometimes', 'somewhat', 'somewhere', 'soon', 'sorry', 'specified', 'specify', 'specifying', 'still', 'sub', 'such', 'sup', 'sure', 't', \"t's\", 'take', 'taken', 'tell', 'tends', 'th', 'than', 'thank', 'thanks', 'thanx', 'that', \"that's\", 'thats', 'the', 'their', 'theirs', 'them', 'themselves', 'then', 'thence', 'there', \"there's\", 'thereafter', 'thereby', 'therefore', 'therein', 'theres', 'thereupon', 'these', 'they', \"they'd\", \"they'll\", \"they're\", \"they've\", 'think', 'third', 'this', 'thorough', 'thoroughly', 'those', 'though', 'three', 'through', 'throughout', 'thru', 'thus', 'to', 'together', 'too', 'took', 'toward', 'towards', 'tried', 'tries', 'truly', 'try', 'trying', 'twice', 'two', 'u', 'un', 'under', 'unfortunately', 'unless', 'unlikely', 'until', 'unto', 'up', 'upon', 'us', 'use', 'used', 'useful', 'uses', 'using', 'usually', 'uucp', 'v', 'value', 'various', 'very', 'via', 'viz', 'vs', 'w', 'want', 'wants', 'was', \"wasn't\", 'way', 'we', \"we'd\", \"we'll\", \"we're\", \"we've\", 'welcome', 'well', 'went', 'were', \"weren't\", 'what', \"what's\", 'whatever', 'when', 'whence', 'whenever', 'where', \"where's\", 'whereafter', 'whereas', 'whereby', 'wherein', 'whereupon', 'wherever', 'whether', 'which', 'while', 'whither', 'who', \"who's\", 'whoever', 'whole', 'whom', 'whose', 'why', 'will', 'willing', 'wish', 'with', 'within', 'without', \"won't\", 'wonder', 'would', 'would', \"wouldn't\", 'x', 'y', 'yes', 'yet', 'you', \"you'd\", \"you'll\", \"you're\", \"you've\", 'your', 'yours', 'yourself', 'yourselves', 'z', 'zero', '']\n"
     ]
    },
    {
     "data": {
      "text/plain": [
       "['1599',\n",
       " 'THE TRAGEDY OF JULIUS CAESAR',\n",
       " '',\n",
       " 'by William Shakespeare',\n",
       " '',\n",
       " '',\n",
       " '',\n",
       " 'Dramatis Personae',\n",
       " '',\n",
       " '  JULIUS CAESAR, Roman statesman and general',\n",
       " \"  OCTAVIUS, Triumvir after Caesar's death, later Augustus Caesar,\",\n",
       " '    first emperor of Rome',\n",
       " '  MARK ANTONY, general and friend of Caesar, a Triumvir after his',\n",
       " 'death',\n",
       " '  LEPIDUS, third member of the Triumvirate',\n",
       " '  MARCUS BRUTUS, leader of the conspiracy against Caesar',\n",
       " '  CASSIUS, instigator of the conspiracy',\n",
       " '  CASCA,          conspirator against Caesar',\n",
       " '  TREBONIUS,           \"          \"     \"',\n",
       " '  CAIUS LIGARIUS,      \"          \"     \"',\n",
       " '  DECIUS BRUTUS,       \"          \"     \"',\n",
       " '  METELLUS CIMBER,     \"          \"     \"',\n",
       " '  CINNA,               \"          \"     \"',\n",
       " '  CALPURNIA, wife of Caesar',\n",
       " '  PORTIA, wife of Brutus',\n",
       " '  CICERO,     senator',\n",
       " '  POPILIUS,      \"',\n",
       " '  POPILIUS LENA, \"',\n",
       " '  FLAVIUS, tribune ',\n",
       " '  MARULLUS, tribune',\n",
       " '  CATO,     supportor of Brutus',\n",
       " '  LUCILIUS,     \"     \"    \"',\n",
       " '  TITINIUS,     \"     \"    \"',\n",
       " '  MESSALA,      \"     \"    \"',\n",
       " '  VOLUMNIUS,    \"     \"    \"',\n",
       " '  ARTEMIDORUS, a teacher of rhetoric',\n",
       " '  CINNA, a poet',\n",
       " '  VARRO,     servant to Brutus',\n",
       " '  CLITUS,       \"    \"     \"',\n",
       " '  CLAUDIO,      \"    \"     \"',\n",
       " '  STRATO,       \"    \"     \"',\n",
       " '  LUCIUS,       \"    \"     \"',\n",
       " '  DARDANIUS,    \"    \"     \"',\n",
       " '  PINDARUS, servant to Cassius',\n",
       " '  The Ghost of Caesar',\n",
       " '  A Soothsayer',\n",
       " '  A Poet',\n",
       " '  Senators, Citizens, Soldiers, Commoners, Messengers, and',\n",
       " 'Servants',\n",
       " '',\n",
       " '',\n",
       " '',\n",
       " '',\n",
       " '<<THIS ELECTRONIC VERSION OF THE COMPLETE WORKS OF WILLIAM',\n",
       " 'SHAKESPEARE IS COPYRIGHT 1990-1993 BY WORLD LIBRARY, INC., AND IS',\n",
       " 'PROVIDED BY PROJECT GUTENBERG ETEXT OF CARNEGIE MELLON UNIVERSITY',\n",
       " 'WITH PERMISSION.  ELECTRONIC AND MACHINE READABLE COPIES MAY BE',\n",
       " 'DISTRIBUTED SO LONG AS SUCH COPIES (1) ARE FOR YOUR OR OTHERS',\n",
       " 'PERSONAL USE ONLY, AND (2) ARE NOT DISTRIBUTED OR USED',\n",
       " 'COMMERCIALLY.  PROHIBITED COMMERCIAL DISTRIBUTION INCLUDES BY ANY',\n",
       " 'SERVICE THAT CHARGES FOR DOWNLOAD TIME OR FOR MEMBERSHIP.>>',\n",
       " '',\n",
       " '',\n",
       " '',\n",
       " \"SCENE: Rome, the conspirators' camp near Sardis,  and the plains\",\n",
       " 'of Philippi.',\n",
       " '',\n",
       " '',\n",
       " 'ACT I. SCENE I.',\n",
       " 'Rome. A street.',\n",
       " '',\n",
       " 'Enter Flavius, Marullus, and certain Commoners.',\n",
       " '',\n",
       " '  FLAVIUS. Hence, home, you idle creatures, get you home.',\n",
       " '    Is this a holiday? What, know you not,',\n",
       " '    Being mechanical, you ought not walk',\n",
       " '    Upon a laboring day without the sign',\n",
       " '    Of your profession? Speak, what trade art thou?',\n",
       " '  FIRST COMMONER. Why, sir, a carpenter.',\n",
       " '  MARULLUS. Where is thy leather apron and thy rule?',\n",
       " '    What dost thou with thy best apparel on?',\n",
       " '    You, sir, what trade are you?',\n",
       " '  SECOND COMMONER. Truly, sir, in respect of a fine workman, I am',\n",
       " '    but, as you would say, a cobbler.',\n",
       " '  MARULLUS. But what trade art thou? Answer me directly.',\n",
       " '  SECOND COMMONER. A trade, sir, that, I hope, I may use with a',\n",
       " 'safe',\n",
       " '    conscience, which is indeed, sir, a mender of bad soles.',\n",
       " '  MARULLUS. What trade, thou knave? Thou naughty knave, what',\n",
       " 'trade?',\n",
       " '  SECOND COMMONER. Nay, I beseech you, sir, be not out with me;',\n",
       " 'yet,',\n",
       " '    if you be out, sir, I can mend you. ',\n",
       " \"  MARULLUS. What mean'st thou by that? Mend me, thou saucy\",\n",
       " 'fellow!',\n",
       " '  SECOND COMMONER. Why, sir, cobble you.',\n",
       " '  FLAVIUS. Thou art a cobbler, art thou?',\n",
       " '  SECOND COMMONER. Truly, Sir, all that I live by is with the',\n",
       " 'awl; I',\n",
       " \"    meddle with no tradesman's matters, nor women's matters, but\",\n",
       " 'with',\n",
       " '    awl. I am indeed, sir, a surgeon to old shoes; when they are',\n",
       " 'in',\n",
       " '    great danger, I recover them. As proper men as ever trod upon',\n",
       " \"    neat's leather have gone upon my handiwork.\",\n",
       " '  FLAVIUS. But wherefore art not in thy shop today?',\n",
       " '    Why dost thou lead these men about the streets?',\n",
       " '  SECOND COMMONER. Truly, sir, to wear out their shoes to get',\n",
       " 'myself',\n",
       " '    into more work. But indeed, sir, we make holiday to see',\n",
       " 'Caesar',\n",
       " '    and to rejoice in his triumph.',\n",
       " '  MARULLUS. Wherefore rejoice? What conquest brings he home?',\n",
       " '    What tributaries follow him to Rome',\n",
       " '    To grace in captive bonds his chariot wheels?',\n",
       " '    You blocks, you stones, you worse than senseless things!',\n",
       " '    O you hard hearts, you cruel men of Rome,',\n",
       " '    Knew you not Pompey? Many a time and oft',\n",
       " \"    Have you climb'd up to walls and battlements, \",\n",
       " '    To towers and windows, yea, to chimney tops,',\n",
       " '    Your infants in your arms, and there have sat',\n",
       " '    The livelong day with patient expectation',\n",
       " '    To see great Pompey pass the streets of Rome.',\n",
       " '    And when you saw his chariot but appear,',\n",
       " '    Have you not made an universal shout',\n",
       " '    That Tiber trembled underneath her banks',\n",
       " '    To hear the replication of your sounds',\n",
       " '    Made in her concave shores?',\n",
       " '    And do you now put on your best attire?',\n",
       " '    And do you now cull out a holiday?',\n",
       " '    And do you now strew flowers in his way',\n",
       " \"    That comes in triumph over Pompey's blood?\",\n",
       " '    Be gone!',\n",
       " '    Run to your houses, fall upon your knees,',\n",
       " '    Pray to the gods to intermit the plague',\n",
       " '    That needs must light on this ingratitude.',\n",
       " '  FLAVIUS. Go, go, good countrymen, and, for this fault,',\n",
       " '    Assemble all the poor men of your sort,',\n",
       " '    Draw them to Tiber banks, and weep your tears ',\n",
       " '    Into the channel, till the lowest stream',\n",
       " '    Do kiss the most exalted shores of all.',\n",
       " '                                           Exeunt all Commoners.',\n",
       " '    See whether their basest metal be not moved;',\n",
       " '    They vanish tongue-tied in their guiltiness.',\n",
       " '    Go you down that way towards the Capitol;',\n",
       " '    This way will I. Disrobe the images',\n",
       " \"    If you do find them deck'd with ceremonies.\",\n",
       " '  MARULLUS. May we do so?',\n",
       " '    You know it is the feast of Lupercal.',\n",
       " '  FLAVIUS. It is no matter; let no images',\n",
       " \"    Be hung with Caesar's trophies. I'll about\",\n",
       " '    And drive away the vulgar from the streets;',\n",
       " '    So do you too, where you perceive them thick.',\n",
       " \"    These growing feathers pluck'd from Caesar's wing\",\n",
       " '    Will make him fly an ordinary pitch,',\n",
       " '    Who else would soar above the view of men',\n",
       " '    And keep us all in servile fearfulness.              Exeunt.',\n",
       " '',\n",
       " '',\n",
       " '',\n",
       " '',\n",
       " 'SCENE II.',\n",
       " 'A public place.',\n",
       " '',\n",
       " 'Flourish. Enter Caesar; Antony, for the course; Calpurnia,',\n",
       " 'Portia,',\n",
       " 'Decius, Cicero, Brutus, Cassius, and Casca; a great crowd',\n",
       " 'follows,',\n",
       " 'among them a Soothsayer.',\n",
       " '',\n",
       " '  CAESAR. Calpurnia!',\n",
       " '  CASCA. Peace, ho! Caesar speaks.',\n",
       " '                                                   Music ceases.',\n",
       " '  CAESAR. Calpurnia!',\n",
       " '  CALPURNIA. Here, my lord.',\n",
       " \"  CAESAR. Stand you directly in Antonio's way,\",\n",
       " '    When he doth run his course. Antonio!',\n",
       " '  ANTONY. Caesar, my lord?',\n",
       " '  CAESAR. Forget not in your speed, Antonio,',\n",
       " '    To touch Calpurnia, for our elders say',\n",
       " '    The barren, touched in this holy chase,',\n",
       " '    Shake off their sterile curse.',\n",
       " '  ANTONY. I shall remember.',\n",
       " '    When Caesar says \"Do this,\" it is perform\\'d.',\n",
       " '  CAESAR. Set on, and leave no ceremony out.           Flourish. ',\n",
       " '  SOOTHSAYER. Caesar!',\n",
       " '  CAESAR. Ha! Who calls?',\n",
       " '  CASCA. Bid every noise be still. Peace yet again!',\n",
       " '  CAESAR. Who is it in the press that calls on me?',\n",
       " '    I hear a tongue, shriller than all the music,',\n",
       " '    Cry \"Caesar.\" Speak, Caesar is turn\\'d to hear.',\n",
       " '  SOOTHSAYER. Beware the ides of March.',\n",
       " '  CAESAR. What man is that?',\n",
       " '  BRUTUS. A soothsayer you beware the ides of March.',\n",
       " '  CAESAR. Set him before me let me see his face.',\n",
       " '  CASSIUS. Fellow, come from the throng; look upon Caesar.',\n",
       " \"  CAESAR. What say'st thou to me now? Speak once again.\",\n",
       " '  SOOTHSAYER. Beware the ides of March.',\n",
       " '  CAESAR. He is a dreamer; let us leave him. Pass.',\n",
       " '                      Sennet. Exeunt all but Brutus and Cassius.',\n",
       " '  CASSIUS. Will you go see the order of the course?',\n",
       " '  BRUTUS. Not I.',\n",
       " '  CASSIUS. I pray you, do.',\n",
       " '  BRUTUS. I am not gamesome; I do lack some part',\n",
       " '    Of that quick spirit that is in Antony. ',\n",
       " '    Let me not hinder, Cassius, your desires;',\n",
       " \"    I'll leave you.\",\n",
       " '  CASSIUS. Brutus, I do observe you now of late;',\n",
       " '    I have not from your eyes that gentleness',\n",
       " '    And show of love as I was wont to have;',\n",
       " '    You bear too stubborn and too strange a hand',\n",
       " '    Over your friend that loves you.',\n",
       " '  BRUTUS. Cassius,',\n",
       " \"    Be not deceived; if I have veil'd my look,\",\n",
       " '    I turn the trouble of my countenance',\n",
       " '    Merely upon myself. Vexed I am',\n",
       " '    Of late with passions of some difference,',\n",
       " '    Conceptions only proper to myself,',\n",
       " '    Which give some soil perhaps to my behaviors;',\n",
       " '    But let not therefore my good friends be grieved-',\n",
       " '    Among which number, Cassius, be you one-',\n",
       " '    Nor construe any further my neglect',\n",
       " '    Than that poor Brutus with himself at war',\n",
       " '    Forgets the shows of love to other men.',\n",
       " '  CASSIUS. Then, Brutus, I have much mistook your passion, ',\n",
       " '    By means whereof this breast of mine hath buried',\n",
       " '    Thoughts of great value, worthy cogitations.',\n",
       " '    Tell me, good Brutus, can you see your face?',\n",
       " '  BRUTUS. No, Cassius, for the eye sees not itself',\n",
       " '    But by reflection, by some other things.',\n",
       " \"  CASSIUS. 'Tis just,\",\n",
       " '    And it is very much lamented, Brutus,',\n",
       " '    That you have no such mirrors as will turn',\n",
       " '    Your hidden worthiness into your eye',\n",
       " '    That you might see your shadow. I have heard',\n",
       " '    Where many of the best respect in Rome,',\n",
       " '    Except immortal Caesar, speaking of Brutus',\n",
       " \"    And groaning underneath this age's yoke,\",\n",
       " \"    Have wish'd that noble Brutus had his eyes.\",\n",
       " '  BRUTUS. Into what dangers would you lead me, Cassius,',\n",
       " '    That you would have me seek into myself',\n",
       " '    For that which is not in me?',\n",
       " '  CASSIUS. Therefore, good Brutus, be prepared to hear,',\n",
       " '    And since you know you cannot see yourself',\n",
       " '    So well as by reflection, I your glass ',\n",
       " '    Will modestly discover to yourself',\n",
       " '    That of yourself which you yet know not of.',\n",
       " '    And be not jealous on me, gentle Brutus;',\n",
       " '    Were I a common laugher, or did use',\n",
       " '    To stale with ordinary oaths my love',\n",
       " '    To every new protester, if you know',\n",
       " '    That I do fawn on men and hug them hard',\n",
       " '    And after scandal them, or if you know',\n",
       " '    That I profess myself in banqueting',\n",
       " '    To all the rout, then hold me dangerous.',\n",
       " '                                             Flourish and shout.',\n",
       " '  BRUTUS. What means this shouting? I do fear the people',\n",
       " '    Choose Caesar for their king.',\n",
       " '  CASSIUS. Ay, do you fear it?',\n",
       " '    Then must I think you would not have it so.',\n",
       " '  BRUTUS. I would not, Cassius, yet I love him well.',\n",
       " '    But wherefore do you hold me here so long?',\n",
       " '    What is it that you would impart to me?',\n",
       " '    If it be aught toward the general good,',\n",
       " \"    Set honor in one eye and death i' the other \",\n",
       " '    And I will look on both indifferently.',\n",
       " '    For let the gods so speed me as I love',\n",
       " '    The name of honor more than I fear death.',\n",
       " '  CASSIUS. I know that virtue to be in you, Brutus,',\n",
       " '    As well as I do know your outward favor.',\n",
       " '    Well, honor is the subject of my story.',\n",
       " '    I cannot tell what you and other men',\n",
       " '    Think of this life, but, for my single self,',\n",
       " '    I had as lief not be as live to be',\n",
       " '    In awe of such a thing as I myself.',\n",
       " '    I was born free as Caesar, so were you;',\n",
       " '    We both have fed as well, and we can both',\n",
       " \"    Endure the winter's cold as well as he.\",\n",
       " '    For once, upon a raw and gusty day,',\n",
       " '    The troubled Tiber chafing with her shores,',\n",
       " '    Caesar said to me, \"Darest thou, Cassius, now',\n",
       " '    Leap in with me into this angry flood',\n",
       " '    And swim to yonder point?\" Upon the word,',\n",
       " '    Accoutred as I was, I plunged in',\n",
       " '    And bade him follow. So indeed he did. ',\n",
       " \"    The torrent roar'd, and we did buffet it\",\n",
       " '    With lusty sinews, throwing it aside',\n",
       " '    And stemming it with hearts of controversy.',\n",
       " '    But ere we could arrive the point proposed,',\n",
       " '    Caesar cried, \"Help me, Cassius, or I sink!',\n",
       " '    I, as Aeneas our great ancestor',\n",
       " '    Did from the flames of Troy upon his shoulder',\n",
       " '    The old Anchises bear, so from the waves of Tiber',\n",
       " '    Did I the tired Caesar. And this man',\n",
       " '    Is now become a god, and Cassius is',\n",
       " '    A wretched creature and must bend his body',\n",
       " '    If Caesar carelessly but nod on him.',\n",
       " '    He had a fever when he was in Spain,',\n",
       " '    And when the fit was on him I did mark',\n",
       " \"    How he did shake. 'Tis true, this god did shake;\",\n",
       " '    His coward lips did from their color fly,',\n",
       " '    And that same eye whose bend doth awe the world',\n",
       " '    Did lose his luster. I did hear him groan.',\n",
       " '    Ay, and that tongue of his that bade the Romans',\n",
       " '    Mark him and write his speeches in their books, ',\n",
       " '    Alas, it cried, \"Give me some drink, Titinius,\"',\n",
       " '    As a sick girl. Ye gods! It doth amaze me',\n",
       " '    A man of such a feeble temper should',\n",
       " '    So get the start of the majestic world',\n",
       " '    And bear the palm alone. Shout.                    Flourish.',\n",
       " '  BRUTUS. Another general shout!',\n",
       " '    I do believe that these applauses are',\n",
       " \"    For some new honors that are heap'd on Caesar.\",\n",
       " '  CASSIUS. Why, man, he doth bestride the narrow world',\n",
       " '    Like a Colossus, and we petty men',\n",
       " '    Walk under his huge legs and peep about',\n",
       " '    To find ourselves dishonorable graves.',\n",
       " '    Men at some time are masters of their fates:',\n",
       " '    The fault, dear Brutus, is not in our stars,',\n",
       " '    But in ourselves that we are underlings.',\n",
       " '    Brutus and Caesar: what should be in that \"Caesar\"?',\n",
       " '    Why should that name be sounded more than yours?',\n",
       " '    Write them together, yours is as fair a name;',\n",
       " '    Sound them, it doth become the mouth as well;',\n",
       " \"    Weigh them, it is as heavy; conjure with 'em, \",\n",
       " '    \"Brutus\" will start a spirit as soon as \"Caesar.\"',\n",
       " '    Now, in the names of all the gods at once,',\n",
       " '    Upon what meat doth this our Caesar feed',\n",
       " '    That he is grown so great? Age, thou art shamed!',\n",
       " '    Rome, thou hast lost the breed of noble bloods!',\n",
       " '    When went there by an age since the great flood',\n",
       " '    But it was famed with more than with one man?',\n",
       " \"    When could they say till now that talk'd of Rome\",\n",
       " \"    That her wide walls encompass'd but one man?\",\n",
       " '    Now is it Rome indeed, and room enough,',\n",
       " '    When there is in it but one only man.',\n",
       " '    O, you and I have heard our fathers say',\n",
       " \"    There was a Brutus once that would have brook'd\",\n",
       " '    The eternal devil to keep his state in Rome',\n",
       " '    As easily as a king.',\n",
       " '  BRUTUS. That you do love me, I am nothing jealous;',\n",
       " '    What you would work me to, I have some aim.',\n",
       " '    How I have thought of this and of these times,',\n",
       " '    I shall recount hereafter; for this present,',\n",
       " '    I would not, so with love I might entreat you, ',\n",
       " '    Be any further moved. What you have said',\n",
       " '    I will consider; what you have to say',\n",
       " '    I will with patience hear, and find a time',\n",
       " '    Both meet to hear and answer such high things.',\n",
       " '    Till then, my noble friend, chew upon this:',\n",
       " '    Brutus had rather be a villager',\n",
       " '    Than to repute himself a son of Rome',\n",
       " '    Under these hard conditions as this time',\n",
       " '    Is like to lay upon us.',\n",
       " '  CASSIUS. I am glad that my weak words',\n",
       " '    Have struck but thus much show of fire from Brutus.',\n",
       " '',\n",
       " '            Re-enter Caesar and his Train.',\n",
       " '',\n",
       " '  BRUTUS. The games are done, and Caesar is returning.',\n",
       " '  CASSIUS. As they pass by, pluck Casca by the sleeve,',\n",
       " '    And he will, after his sour fashion, tell you',\n",
       " '    What hath proceeded worthy note today.',\n",
       " '  BRUTUS. I will do so. But, look you, Cassius,',\n",
       " \"    The angry spot doth glow on Caesar's brow, \",\n",
       " '    And all the rest look like a chidden train:',\n",
       " \"    Calpurnia's cheek is pale, and Cicero\",\n",
       " '    Looks with such ferret and such fiery eyes',\n",
       " '    As we have seen him in the Capitol,',\n",
       " \"    Being cross'd in conference by some senators.\",\n",
       " '  CASSIUS. Casca will tell us what the matter is.',\n",
       " '  CAESAR. Antonio!',\n",
       " '  ANTONY. Caesar?',\n",
       " '  CAESAR. Let me have men about me that are fat,',\n",
       " \"    Sleek-headed men, and such as sleep o' nights:\",\n",
       " '    Yond Cassius has a lean and hungry look;',\n",
       " '    He thinks too much; such men are dangerous.',\n",
       " \"  ANTONY. Fear him not, Caesar; he's not dangerous;\",\n",
       " '    He is a noble Roman and well given.',\n",
       " '  CAESAR. Would he were fatter! But I fear him not,',\n",
       " '    Yet if my name were liable to fear,',\n",
       " '    I do not know the man I should avoid',\n",
       " '    So soon as that spare Cassius. He reads much,',\n",
       " '    He is a great observer, and he looks',\n",
       " '    Quite through the deeds of men. He loves no plays, ',\n",
       " '    As thou dost, Antony; he hears no music;',\n",
       " '    Seldom he smiles, and smiles in such a sort',\n",
       " \"    As if he mock'd himself and scorn'd his spirit\",\n",
       " '    That could be moved to smile at anything.',\n",
       " \"    Such men as he be never at heart's ease\",\n",
       " '    Whiles they behold a greater than themselves,',\n",
       " '    And therefore are they very dangerous.',\n",
       " \"    I rather tell thee what is to be fear'd\",\n",
       " '    Than what I fear, for always I am Caesar.',\n",
       " '    Come on my right hand, for this ear is deaf,',\n",
       " \"    And tell me truly what thou think'st of him.\",\n",
       " '              Sennet. Exeunt Caesar and all his Train but Casca.',\n",
       " \"  CASCA. You pull'd me by the cloak; would you speak with me?\",\n",
       " '  BRUTUS. Ay, Casca, tell us what hath chanced today',\n",
       " '    That Caesar looks so sad.',\n",
       " '  CASCA. Why, you were with him, were you not?',\n",
       " '  BRUTUS. I should not then ask Casca what had chanced.',\n",
       " '  CASCA. Why, there was a crown offered him, and being offered',\n",
       " 'him,',\n",
       " '     he put it by with the back of his hand, thus, and then the',\n",
       " '     people fell ashouting. ',\n",
       " '  BRUTUS. What was the second noise for?',\n",
       " '  CASCA. Why, for that too.',\n",
       " '  CASSIUS. They shouted thrice. What was the last cry for?',\n",
       " '  CASCA. Why, for that too.',\n",
       " '  BRUTUS. Was the crown offered him thrice?',\n",
       " '  CASCA. Ay, marry, wast, and he put it by thrice, every time',\n",
       " 'gentler',\n",
       " '    than other, and at every putting by mine honest neighbors',\n",
       " '    shouted.',\n",
       " '  CASSIUS. Who offered him the crown?',\n",
       " '  CASCA. Why, Antony.',\n",
       " '  BRUTUS. Tell us the manner of it, gentle Casca.',\n",
       " \"  CASCA. I can as well be hang'd as tell the manner of it. It was\",\n",
       " '    mere foolery; I did not mark it. I saw Mark Antony offer him',\n",
       " 'a',\n",
       " \"    crown (yet 'twas not a crown neither, 'twas one of these\",\n",
       " '    coronets) and, as I told you, he put it by once. But for all',\n",
       " '    that, to my thinking, he would fain have had it. Then he',\n",
       " 'offered',\n",
       " '    it to him again; then he put it by again. But, to my',\n",
       " 'thinking, he',\n",
       " '    was very loath to lay his fingers off it. And then he offered',\n",
       " 'it',\n",
       " '    the third time; he put it the third time by; and still as he',\n",
       " '    refused it, the rabblement hooted and clapped their chopped',\n",
       " 'hands ',\n",
       " '    and threw up their sweaty nightcaps and uttered such a deal',\n",
       " 'of',\n",
       " '    stinking breath because Caesar refused the crown that it had',\n",
       " '    almost choked Caesar, for he swounded and fell down at it.',\n",
       " 'And',\n",
       " '    for mine own part, I durst not laugh for fear of opening my',\n",
       " 'lips',\n",
       " '    and receiving the bad air.',\n",
       " '  CASSIUS. But, soft, I pray you, what, did Caesars wound?',\n",
       " '  CASCA. He fell down in the marketplace and foamed at mouth and',\n",
       " 'was',\n",
       " '    speechless.',\n",
       " \"  BRUTUS. 'Tis very like. He hath the falling sickness.\",\n",
       " '  CASSIUS. No, Caesar hath it not, but you, and I,',\n",
       " '    And honest Casca, we have the falling sickness.',\n",
       " '  CASCA. I know not what you mean by that, but I am sure Caesar',\n",
       " 'fell',\n",
       " '    down. If the tagrag people did not clap him and hiss him',\n",
       " '    according as he pleased and displeased them, as they use to',\n",
       " 'do',\n",
       " '    the players in the theatre, I am no true man.',\n",
       " '  BRUTUS. What said he when he came unto himself?',\n",
       " '  CASCA. Marry, before he fell down, when he perceived the common',\n",
       " '    herd was glad he refused the crown, he plucked me ope his',\n",
       " 'doublet',\n",
       " '    and offered them his throat to cut. An had been a man of any',\n",
       " '    occupation, if I would not have taken him at a word, I would',\n",
       " 'I ',\n",
       " '    might go to hell among the rogues. And so he fell. When he',\n",
       " 'came',\n",
       " '    to himself again, he said, if he had done or said anything',\n",
       " 'amiss,',\n",
       " '    he desired their worships to think it was his infirmity.',\n",
       " 'Three or',\n",
       " '    four wenches where I stood cried, \"Alas, good soul!\" and',\n",
       " 'forgave',\n",
       " \"    him with all their hearts. But there's no heed to be taken of\",\n",
       " '    them; if Caesar had stabbed their mothers, they would have',\n",
       " 'done',\n",
       " '    no less.',\n",
       " '  BRUTUS. And after that he came, thus sad, away?',\n",
       " '  CASCA. Ay.',\n",
       " '  CASSIUS. Did Cicero say anything?',\n",
       " '  CASCA. Ay, he spoke Greek.',\n",
       " '  CASSIUS. To what effect?',\n",
       " \"  CASCA. Nay, an I tell you that, I'll ne'er look you i' the face\",\n",
       " '    again; but those that understood him smiled at one another',\n",
       " 'and',\n",
       " '    shook their heads; but for mine own part, it was Greek to me.',\n",
       " 'I',\n",
       " '    could tell you more news too: Marullus and Flavius, for',\n",
       " 'pulling',\n",
       " \"    scarfs off Caesar's images, are put to silence. Fare you\",\n",
       " 'well.',\n",
       " '    There was more foolery yet, if could remember it.',\n",
       " '  CASSIUS. Will you sup with me tonight, Casca?',\n",
       " '  CASCA. No, I am promised forth. ',\n",
       " '  CASSIUS. Will you dine with me tomorrow?',\n",
       " '  CASCA. Ay, if I be alive, and your mind hold, and your dinner',\n",
       " 'worth',\n",
       " '    the eating.',\n",
       " '  CASSIUS. Good, I will expect you.',\n",
       " '  CASCA. Do so, farewell, both.                            Exit.',\n",
       " '  BRUTUS. What a blunt fellow is this grown to be!',\n",
       " '    He was quick mettle when he went to school.',\n",
       " '  CASSIUS. So is he now in execution',\n",
       " '    Of any bold or noble enterprise,',\n",
       " '    However he puts on this tardy form.',\n",
       " '    This rudeness is a sauce to his good wit,',\n",
       " '    Which gives men stomach to digest his words',\n",
       " '    With better appetite.',\n",
       " '  BRUTUS. And so it is. For this time I will leave you.',\n",
       " '    Tomorrow, if you please to speak with me,',\n",
       " '    I will come home to you, or, if you will,',\n",
       " '    Come home to me and I will wait for you.',\n",
       " '  CASSIUS. I will do so. Till then, think of the world.',\n",
       " '                                                    Exit Brutus.',\n",
       " '    Well, Brutus, thou art noble; yet, I see ',\n",
       " '    Thy honorable mettle may be wrought',\n",
       " '    From that it is disposed; therefore it is meet',\n",
       " '    That noble minds keep ever with their likes;',\n",
       " '    For who so firm that cannot be seduced?',\n",
       " '    Caesar doth bear me hard, but he loves Brutus.',\n",
       " '    If I were Brutus now and he were Cassius,',\n",
       " '    He should not humor me. I will this night,',\n",
       " '    In several hands, in at his windows throw,',\n",
       " '    As if they came from several citizens,',\n",
       " '    Writings, all tending to the great opinion',\n",
       " '    That Rome holds of his name, wherein obscurely',\n",
       " \"    Caesar's ambition shall be glanced at.\",\n",
       " '    And after this let Caesar seat him sure;',\n",
       " '    For we will shake him, or worse days endure.           Exit.',\n",
       " '',\n",
       " '',\n",
       " '',\n",
       " '',\n",
       " 'SCENE III.',\n",
       " 'A street. Thunder and lightning.',\n",
       " '',\n",
       " 'Enter, from opposite sides, Casca, with his sword drawn, and',\n",
       " 'Cicero.',\n",
       " '',\n",
       " '  CICERO. Good even, Casca. Brought you Caesar home?',\n",
       " '    Why are you breathless, and why stare you so?',\n",
       " '  CASCA. Are not you moved, when all the sway of earth',\n",
       " '    Shakes like a thing unfirm? O Cicero,',\n",
       " '    I have seen tempests when the scolding winds',\n",
       " '    Have rived the knotty oaks, and I have seen',\n",
       " '    The ambitious ocean swell and rage and foam',\n",
       " '    To be exalted with the threatening clouds,',\n",
       " '    But never till tonight, never till now,',\n",
       " '    Did I go through a tempest dropping fire.',\n",
       " '    Either there is a civil strife in heaven,',\n",
       " '    Or else the world too saucy with the gods',\n",
       " '    Incenses them to send destruction.',\n",
       " '  CICERO. Why, saw you anything more wonderful?',\n",
       " '  CASCA. A common slave- you know him well by sight-',\n",
       " '    Held up his left hand, which did flame and burn ',\n",
       " \"    Like twenty torches join'd, and yet his hand\",\n",
       " \"    Not sensible of fire remain'd unscorch'd.\",\n",
       " \"    Besides- I ha' not since put up my sword-\",\n",
       " '    Against the Capitol I met a lion,',\n",
       " \"    Who glaz'd upon me and went surly by\",\n",
       " '    Without annoying me. And there were drawn',\n",
       " '    Upon a heap a hundred ghastly women',\n",
       " '    Transformed with their fear, who swore they saw',\n",
       " '    Men all in fire walk up and down the streets.',\n",
       " '    And yesterday the bird of night did sit',\n",
       " '    Even at noonday upon the marketplace,',\n",
       " '    Howling and shrieking. When these prodigies',\n",
       " '    Do so conjointly meet, let not men say',\n",
       " '    \"These are their reasons; they are natural\":',\n",
       " '    For I believe they are portentous things',\n",
       " '    Unto the climate that they point upon.',\n",
       " '  CICERO. Indeed, it is a strange-disposed time.',\n",
       " '    But men may construe things after their fashion,',\n",
       " '    Clean from the purpose of the things themselves.',\n",
       " '    Comes Caesar to the Capitol tomorrow? ',\n",
       " '  CASCA. He doth, for he did bid Antonio',\n",
       " '    Send word to you he would be there tomorrow.',\n",
       " '  CICERO. Good then, Casca. This disturbed sky',\n",
       " '    Is not to walk in.',\n",
       " '  CASCA. Farewell, Cicero.                          Exit Cicero.',\n",
       " '',\n",
       " '                        Enter Cassius.',\n",
       " '',\n",
       " \"  CASSIUS. Who's there?\",\n",
       " '  CASCA. A Roman.',\n",
       " '  CASSIUS. Casca, by your voice.',\n",
       " '  CASCA. Your ear is good. Cassius, what night is this!',\n",
       " '  CASSIUS. A very pleasing night to honest men.',\n",
       " '  CASCA. Who ever knew the heavens menace so?',\n",
       " '  CASSIUS. Those that have known the earth so full of faults.',\n",
       " \"    For my part, I have walk'd about the streets,\",\n",
       " '    Submitting me unto the perilous night,',\n",
       " '    And thus unbraced, Casca, as you see,',\n",
       " '    Have bared my bosom to the thunderstone;',\n",
       " \"    And when the cross blue lightning seem'd to open \",\n",
       " '    The breast of heaven, I did present myself',\n",
       " '    Even in the aim and very flash of it.',\n",
       " '  CASCA. But wherefore did you so much tempt the heavens?',\n",
       " '    It is the part of men to fear and tremble',\n",
       " '    When the most mighty gods by tokens send',\n",
       " '    Such dreadful heralds to astonish us.',\n",
       " '  CASSIUS. You are dull, Casca, and those sparks of life',\n",
       " '    That should be in a Roman you do want,',\n",
       " '    Or else you use not. You look pale and gaze',\n",
       " '    And put on fear and cast yourself in wonder',\n",
       " '    To see the strange impatience of the heavens.',\n",
       " '    But if you would consider the true cause',\n",
       " '    Why all these fires, why all these gliding ghosts,',\n",
       " '    Why birds and beasts from quality and kind,',\n",
       " '    Why old men, fools, and children calculate,',\n",
       " '    Why all these things change from their ordinance,',\n",
       " '    Their natures, and preformed faculties',\n",
       " '    To monstrous quality, why, you shall find',\n",
       " '    That heaven hath infused them with these spirits',\n",
       " '    To make them instruments of fear and warning ',\n",
       " '    Unto some monstrous state.',\n",
       " '    Now could I, Casca, name to thee a man',\n",
       " '    Most like this dreadful night,',\n",
       " '    That thunders, lightens, opens graves, and roars',\n",
       " '    As doth the lion in the Capitol,',\n",
       " '    A man no mightier than thyself or me',\n",
       " '    In personal action, yet prodigious grown',\n",
       " '    And fearful, as these strange eruptions are.',\n",
       " \"  CASCA. 'Tis Caesar that you mean, is it not, Cassius?\",\n",
       " '  CASSIUS. Let it be who it is, for Romans now',\n",
       " '    Have thews and limbs like to their ancestors.',\n",
       " \"    But, woe the while! Our fathers' minds are dead,\",\n",
       " \"    And we are govern'd with our mothers' spirits;\",\n",
       " '    Our yoke and sufferance show us womanish.',\n",
       " '  CASCA. Indeed they say the senators tomorrow',\n",
       " '    Mean to establish Caesar as a king,',\n",
       " '    And he shall wear his crown by sea and land',\n",
       " '    In every place save here in Italy.',\n",
       " '  CASSIUS. I know where I will wear this dagger then:',\n",
       " '    Cassius from bondage will deliver Cassius. ',\n",
       " '    Therein, ye gods, you make the weak most strong;',\n",
       " '    Therein, ye gods, you tyrants do defeat.',\n",
       " '    Nor stony tower, nor walls of beaten brass,',\n",
       " '    Nor airless dungeon, nor strong links of iron',\n",
       " '    Can be retentive to the strength of spirit;',\n",
       " '    But life, being weary of these worldly bars,',\n",
       " '    Never lacks power to dismiss itself.',\n",
       " '    If I know this, know all the world besides,',\n",
       " '    That part of tyranny that I do bear',\n",
       " '    I can shake off at pleasure.                  Thunder still.',\n",
       " '  CASCA. So can I.',\n",
       " '    So every bondman in his own hand bears',\n",
       " '    The power to cancel his captivity.',\n",
       " '  CASSIUS. And why should Caesar be a tyrant then?',\n",
       " '    Poor man! I know he would not be a wolf',\n",
       " '    But that he sees the Romans are but sheep.',\n",
       " '    He were no lion, were not Romans hinds.',\n",
       " '    Those that with haste will make a mighty fire',\n",
       " '    Begin it with weak straws. What trash is Rome,',\n",
       " '    What rubbish, and what offal, when it serves ',\n",
       " '    For the base matter to illuminate',\n",
       " '    So vile a thing as Caesar? But, O grief,',\n",
       " '    Where hast thou led me? I perhaps speak this',\n",
       " '    Before a willing bondman; then I know',\n",
       " \"    My answer must be made. But I am arm'd,\",\n",
       " '    And dangers are to me indifferent.',\n",
       " '  CASCA. You speak to Casca, and to such a man',\n",
       " '    That is no fleering tell-tale. Hold, my hand.',\n",
       " '    Be factious for redress of all these griefs,',\n",
       " '    And I will set this foot of mine as far',\n",
       " '    As who goes farthest.',\n",
       " \"  CASSIUS. There's a bargain made.\",\n",
       " '    Now know you, Casca, I have moved already',\n",
       " '    Some certain of the noblest-minded Romans',\n",
       " '    To undergo with me an enterprise',\n",
       " '    Of honorable-dangerous consequence;',\n",
       " '    And I do know by this, they stay for me',\n",
       " \"    In Pompey's Porch. For now, this fearful night,\",\n",
       " '    There is no stir or walking in the streets,',\n",
       " '    And the complexion of the element ',\n",
       " \"    In favor's like the work we have in hand,\",\n",
       " '    Most bloody, fiery, and most terrible.',\n",
       " '',\n",
       " '                       Enter Cinna.',\n",
       " '',\n",
       " '  CASCA. Stand close awhile, for here comes one in haste.',\n",
       " \"  CASSIUS. 'Tis Cinna, I do know him by his gait;\",\n",
       " '    He is a friend. Cinna, where haste you so?',\n",
       " \"  CINNA. To find out you. Who's that? Metellus Cimber?\",\n",
       " '  CASSIUS. No, it is Casca, one incorporate',\n",
       " \"    To our attempts. Am I not stay'd for, Cinna?\",\n",
       " \"  CINNA. I am glad on't. What a fearful night is this!\",\n",
       " \"    There's two or three of us have seen strange sights.\",\n",
       " \"  CASSIUS. Am I not stay'd for? Tell me.\",\n",
       " '  CINNA. Yes, you are.',\n",
       " '    O Cassius, if you could',\n",
       " '    But win the noble Brutus to our party-',\n",
       " '  CASSIUS. Be you content. Good Cinna, take this paper,',\n",
       " \"    And look you lay it in the praetor's chair,\",\n",
       " '    Where Brutus may but find it; and throw this ',\n",
       " '    In at his window; set this up with wax',\n",
       " \"    Upon old Brutus' statue. All this done,\",\n",
       " \"    Repair to Pompey's Porch, where you shall find us.\",\n",
       " '    Is Decius Brutus and Trebonius there?',\n",
       " \"  CINNA. All but Metellus Cimber, and he's gone\",\n",
       " '    To seek you at your house. Well, I will hie',\n",
       " '    And so bestow these papers as you bade me.',\n",
       " \"  CASSIUS. That done, repair to Pompey's Theatre.\",\n",
       " '                                                     Exit Cinna.',\n",
       " '    Come, Casca, you and I will yet ere day',\n",
       " '    See Brutus at his house. Three parts of him',\n",
       " '    Is ours already, and the man entire',\n",
       " '    Upon the next encounter yields him ours.',\n",
       " \"  CASCA. O, he sits high in all the people's hearts,\",\n",
       " '    And that which would appear offense in us,',\n",
       " '    His countenance, like richest alchemy,',\n",
       " '    Will change to virtue and to worthiness.',\n",
       " '  CASSIUS. Him and his worth and our great need of him',\n",
       " '    You have right well conceited. Let us go,',\n",
       " '    For it is after midnight, and ere day ',\n",
       " '    We will awake him and be sure of him.                Exeunt.',\n",
       " '',\n",
       " '',\n",
       " '',\n",
       " '',\n",
       " '<<THIS ELECTRONIC VERSION OF THE COMPLETE WORKS OF WILLIAM',\n",
       " 'SHAKESPEARE IS COPYRIGHT 1990-1993 BY WORLD LIBRARY, INC., AND IS',\n",
       " 'PROVIDED BY PROJECT GUTENBERG ETEXT OF CARNEGIE MELLON UNIVERSITY',\n",
       " 'WITH PERMISSION.  ELECTRONIC AND MACHINE READABLE COPIES MAY BE',\n",
       " 'DISTRIBUTED SO LONG AS SUCH COPIES (1) ARE FOR YOUR OR OTHERS',\n",
       " 'PERSONAL USE ONLY, AND (2) ARE NOT DISTRIBUTED OR USED',\n",
       " 'COMMERCIALLY.  PROHIBITED COMMERCIAL DISTRIBUTION INCLUDES BY ANY',\n",
       " 'SERVICE THAT CHARGES FOR DOWNLOAD TIME OR FOR MEMBERSHIP.>>',\n",
       " '',\n",
       " '',\n",
       " '',\n",
       " 'ACT II. SCENE I.',\n",
       " '',\n",
       " 'Enter Brutus in his orchard.',\n",
       " '',\n",
       " '  BRUTUS. What, Lucius, ho!',\n",
       " '    I cannot, by the progress of the stars,',\n",
       " '    Give guess how near to day. Lucius, I say!',\n",
       " '    I would it were my fault to sleep so soundly.',\n",
       " '    When, Lucius, when? Awake, I say! What, Lucius!',\n",
       " '',\n",
       " '                            Enter Lucius.',\n",
       " '',\n",
       " \"  LUCIUS. Call'd you, my lord?\",\n",
       " '  BRUTUS. Get me a taper in my study, Lucius.',\n",
       " '    When it is lighted, come and call me here.',\n",
       " '  LUCIUS. I will, my lord.                                 Exit.',\n",
       " '  BRUTUS. It must be by his death, and, for my part,',\n",
       " '    I know no personal cause to spurn at him,',\n",
       " \"    But for the general. He would be crown'd:\",\n",
       " \"    How that might change his nature, there's the question.\",\n",
       " '    It is the bright day that brings forth the adder',\n",
       " '    And that craves wary walking. Crown him that, ',\n",
       " '    And then, I grant, we put a sting in him',\n",
       " '    That at his will he may do danger with.',\n",
       " '    The abuse of greatness is when it disjoins',\n",
       " '    Remorse from power, and, to speak truth of Caesar,',\n",
       " \"    I have not known when his affections sway'd\",\n",
       " \"    More than his reason. But 'tis a common proof\",\n",
       " \"    That lowliness is young ambition's ladder,\",\n",
       " '    Whereto the climber-upward turns his face;',\n",
       " '    But when he once attains the upmost round,',\n",
       " '    He then unto the ladder turns his back,',\n",
       " '    Looks in the clouds, scorning the base degrees',\n",
       " '    By which he did ascend. So Caesar may;',\n",
       " '    Then, lest he may, prevent. And, since the quarrel',\n",
       " '    Will bear no color for the thing he is,',\n",
       " '    Fashion it thus, that what he is, augmented,',\n",
       " '    Would run to these and these extremities;',\n",
       " \"    And therefore think him as a serpent's egg\",\n",
       " \"    Which hatch'd would as his kind grow mischievous,\",\n",
       " '    And kill him in the shell.',\n",
       " ' ',\n",
       " '                        Re-enter Lucius.',\n",
       " '',\n",
       " '  LUCIUS. The taper burneth in your closet, sir.',\n",
       " '    Searching the window for a flint I found',\n",
       " \"    This paper thus seal'd up, and I am sure\",\n",
       " '    It did not lie there when I went to bed.',\n",
       " '                                           Gives him the letter.',\n",
       " '  BRUTUS. Get you to bed again, it is not day.',\n",
       " '    Is not tomorrow, boy, the ides of March?',\n",
       " '  LUCIUS. I know not, sir.',\n",
       " '  BRUTUS. Look in the calendar and bring me word.',\n",
       " '  LUCIUS. I will, sir.                                     Exit.',\n",
       " '  BRUTUS. The exhalations whizzing in the air',\n",
       " '    Give so much light that I may read by them.',\n",
       " '                                     Opens the letter and reads.',\n",
       " '    \"Brutus, thou sleep\\'st: awake and see thyself!',\n",
       " '    Shall Rome, etc. Speak, strike, redress!\"',\n",
       " '',\n",
       " '    \"Brutus, thou sleep\\'st: awake!\"',\n",
       " \"    Such instigations have been often dropp'd \",\n",
       " '    Where I have took them up.',\n",
       " '    \"Shall Rome, etc.\" Thus must I piece it out.',\n",
       " \"    Shall Rome stand under one man's awe? What, Rome?\",\n",
       " '    My ancestors did from the streets of Rome',\n",
       " \"    The Tarquin drive, when he was call'd a king.\",\n",
       " '    \"Speak, strike, redress!\" Am I entreated',\n",
       " '    To speak and strike? O Rome, I make thee promise,',\n",
       " '    If the redress will follow, thou receivest',\n",
       " '    Thy full petition at the hand of Brutus!',\n",
       " '',\n",
       " '                        Re-enter Lucius.',\n",
       " '',\n",
       " '  LUCIUS. Sir, March is wasted fifteen days.',\n",
       " '                                                Knocking within.',\n",
       " \"  BRUTUS. 'Tis good. Go to the gate, somebody knocks.\",\n",
       " '                                                    Exit Lucius.',\n",
       " '    Since Cassius first did whet me against Caesar',\n",
       " '    I have not slept.',\n",
       " '    Between the acting of a dreadful thing',\n",
       " '    And the first motion, all the interim is ',\n",
       " '    Like a phantasma or a hideous dream;',\n",
       " '    The genius and the mortal instruments',\n",
       " '    Are then in council, and the state of man,',\n",
       " '    Like to a little kingdom, suffers then',\n",
       " '    The nature of an insurrection.',\n",
       " '',\n",
       " '                         Re-enter Lucius.',\n",
       " '',\n",
       " \"  LUCIUS. Sir, 'tis your brother Cassius at the door,\",\n",
       " '    Who doth desire to see you.',\n",
       " '  BRUTUS. Is he alone?',\n",
       " '  LUCIUS. No, sir, there are more with him.',\n",
       " '  BRUTUS. Do you know them?',\n",
       " \"  LUCIUS. No, sir, their hats are pluck'd about their ears,\",\n",
       " '    And half their faces buried in their cloaks,',\n",
       " '    That by no means I may discover them',\n",
       " '    By any mark of favor.',\n",
       " \"  BRUTUS. Let 'em enter.                            Exit Lucius.\",\n",
       " '    They are the faction. O Conspiracy,',\n",
       " '    Shamest thou to show thy dangerous brow by night, ',\n",
       " '    When evils are most free? O, then, by day',\n",
       " '    Where wilt thou find a cavern dark enough',\n",
       " '    To mask thy monstrous visage? Seek none, Conspiracy;',\n",
       " '    Hide it in smiles and affability;',\n",
       " '    For if thou path, thy native semblance on,',\n",
       " '    Not Erebus itself were dim enough',\n",
       " '    To hide thee from prevention.',\n",
       " '',\n",
       " '    Enter the conspirators, Cassius, Casca, Decius, Cinna,',\n",
       " '                Metellus Cimber, and Trebonius.',\n",
       " '',\n",
       " '  CASSIUS. I think we are too bold upon your rest.',\n",
       " '    Good morrow, Brutus, do we trouble you?',\n",
       " '  BRUTUS. I have been up this hour, awake all night.',\n",
       " '    Know I these men that come along with you?',\n",
       " '  CASSIUS. Yes, every man of them, and no man here',\n",
       " '    But honors you, and every one doth wish',\n",
       " '    You had but that opinion of yourself',\n",
       " '    Which every noble Roman bears of you.',\n",
       " '    This is Trebonius. ',\n",
       " '  BRUTUS. He is welcome hither.',\n",
       " '  CASSIUS. This, Decius Brutus.',\n",
       " '  BRUTUS. He is welcome too.',\n",
       " 'CASSIUS. This, Casca; this, Cinna; and this, Metellus Cimber.',\n",
       " '  BRUTUS. They are all welcome.',\n",
       " '    What watchful cares do interpose themselves',\n",
       " '    Betwixt your eyes and night?',\n",
       " '  CASSIUS. Shall I entreat a word?                 They whisper.',\n",
       " '  DECIUS. Here lies the east. Doth not the day break here?',\n",
       " '  CASCA. No.',\n",
       " '  CINNA. O, pardon, sir, it doth, and yongrey lines',\n",
       " '    That fret the clouds are messengers of day.',\n",
       " '  CASCA. You shall confess that you are both deceived.',\n",
       " '    Here, as I point my sword, the sun arises,',\n",
       " '    Which is a great way growing on the south,',\n",
       " '    Weighing the youthful season of the year.',\n",
       " '    Some two months hence up higher toward the north',\n",
       " '    He first presents his fire, and the high east',\n",
       " '    Stands as the Capitol, directly here.',\n",
       " '  BRUTUS. Give me your hands all over, one by one.',\n",
       " '  CASSIUS. And let us swear our resolution. ',\n",
       " '  BRUTUS. No, not an oath. If not the face of men,',\n",
       " \"    The sufferance of our souls, the time's abuse-\",\n",
       " '    If these be motives weak, break off betimes,',\n",
       " '    And every man hence to his idle bed;',\n",
       " '    So let high-sighted tyranny range on',\n",
       " '    Till each man drop by lottery. But if these,',\n",
       " '    As I am sure they do, bear fire enough',\n",
       " '    To kindle cowards and to steel with valor',\n",
       " '    The melting spirits of women, then, countrymen,',\n",
       " '    What need we any spur but our own cause',\n",
       " '    To prick us to redress? What other bond',\n",
       " '    Than secret Romans that have spoke the word',\n",
       " '    And will not palter? And what other oath',\n",
       " '    Than honesty to honesty engaged',\n",
       " '    That this shall be or we will fall for it?',\n",
       " '    Swear priests and cowards and men cautelous,',\n",
       " '    Old feeble carrions and such suffering souls',\n",
       " '    That welcome wrongs; unto bad causes swear',\n",
       " '    Such creatures as men doubt; but do not stain',\n",
       " '    The even virtue of our enterprise, ',\n",
       " '    Nor the insuppressive mettle of our spirits,',\n",
       " '    To think that or our cause or our performance',\n",
       " '    Did need an oath; when every drop of blood',\n",
       " '    That every Roman bears, and nobly bears,',\n",
       " '    Is guilty of a several bastardy',\n",
       " '    If he do break the smallest particle',\n",
       " \"    Of any promise that hath pass'd from him.\",\n",
       " '  CASSIUS. But what of Cicero? Shall we sound him?',\n",
       " '    I think he will stand very strong with us.',\n",
       " '  CASCA. Let us not leave him out.',\n",
       " '  CINNA. No, by no means.',\n",
       " '  METELLUS. O, let us have him, for his silver hairs',\n",
       " '    Will purchase us a good opinion,',\n",
       " \"    And buy men's voices to commend our deeds.\",\n",
       " '    It shall be said his judgement ruled our hands;',\n",
       " '    Our youths and wildness shall no whit appear,',\n",
       " '    But all be buried in his gravity.',\n",
       " '  BRUTUS. O, name him not; let us not break with him,',\n",
       " '    For he will never follow anything',\n",
       " '    That other men begin. ',\n",
       " '  CASSIUS. Then leave him out.',\n",
       " '  CASCA. Indeed he is not fit.',\n",
       " \"  DECIUS. Shall no man else be touch'd but only Caesar?\",\n",
       " '  CASSIUS. Decius, well urged. I think it is not meet',\n",
       " '    Mark Antony, so well beloved of Caesar,',\n",
       " '    Should outlive Caesar. We shall find of him',\n",
       " '    A shrewd contriver; and you know his means,',\n",
       " '    If he improve them, may well stretch so far',\n",
       " '    As to annoy us all, which to prevent,',\n",
       " '    Let Antony and Caesar fall together.',\n",
       " '  BRUTUS. Our course will seem too bloody, Caius Cassius,',\n",
       " '    To cut the head off and then hack the limbs',\n",
       " '    Like wrath in death and envy afterwards;',\n",
       " '    For Antony is but a limb of Caesar.',\n",
       " '    Let us be sacrificers, but not butchers, Caius.',\n",
       " '    We all stand up against the spirit of Caesar,',\n",
       " '    And in the spirit of men there is no blood.',\n",
       " \"    O, that we then could come by Caesar's spirit,\",\n",
       " '    And not dismember Caesar! But, alas,',\n",
       " '    Caesar must bleed for it! And, gentle friends, ',\n",
       " \"    Let's kill him boldly, but not wrathfully;\",\n",
       " \"    Let's carve him as a dish fit for the gods,\",\n",
       " '    Not hew him as a carcass fit for hounds;',\n",
       " '    And let our hearts, as subtle masters do,',\n",
       " '    Stir up their servants to an act of rage',\n",
       " \"    And after seem to chide 'em. This shall make\",\n",
       " '    Our purpose necessary and not envious,',\n",
       " '    Which so appearing to the common eyes,',\n",
       " \"    We shall be call'd purgers, not murderers.\",\n",
       " '    And for Mark Antony, think not of him,',\n",
       " \"    For he can do no more than Caesar's arm\",\n",
       " \"    When Caesar's head is off.\",\n",
       " '  CASSIUS. Yet I fear him,',\n",
       " '    For in the ingrated love he bears to Caesar-',\n",
       " '  BRUTUS. Alas, good Cassius, do not think of him.',\n",
       " '    If he love Caesar, all that he can do',\n",
       " '    Is to himself, take thought and die for Caesar.',\n",
       " '    And that were much he should, for he is given',\n",
       " '    To sports, to wildness, and much company.',\n",
       " '  TREBONIUS. There is no fear in him-let him not die, ',\n",
       " '    For he will live and laugh at this hereafter.',\n",
       " '                                                  Clock strikes.',\n",
       " '  BRUTUS. Peace, count the clock.',\n",
       " '  CASSIUS. The clock hath stricken three.',\n",
       " \"  TREBONIUS. 'Tis time to part.\",\n",
       " '  CASSIUS. But it is doubtful yet',\n",
       " '    Whether Caesar will come forth today or no,',\n",
       " '    For he is superstitious grown of late,',\n",
       " '    Quite from the main opinion he held once',\n",
       " '    Of fantasy, of dreams, and ceremonies.',\n",
       " '    It may be these apparent prodigies,',\n",
       " \"    The unaccustom'd terror of this night,\",\n",
       " '    And the persuasion of his augurers',\n",
       " '    May hold him from the Capitol today.',\n",
       " '  DECIUS. Never fear that. If he be so resolved,',\n",
       " \"    I can o'ersway him, for he loves to hear\",\n",
       " \"    That unicorns may be betray'd with trees,\",\n",
       " '    And bears with glasses, elephants with holes,',\n",
       " '    Lions with toils, and men with flatterers;',\n",
       " '    But when I tell him he hates flatterers, ',\n",
       " '    He says he does, being then most flattered.',\n",
       " '    Let me work;',\n",
       " '    For I can give his humor the true bent,',\n",
       " '    And I will bring him to the Capitol.',\n",
       " '  CASSIUS. Nay, we will all of us be there to fetch him.',\n",
       " '  BRUTUS. By the eighth hour. Is that the utter most?',\n",
       " '  CINNA. Be that the uttermost, and fail not then.',\n",
       " '  METELLUS. Caius Ligarius doth bear Caesar hard,',\n",
       " '    Who rated him for speaking well of Pompey.',\n",
       " '    I wonder none of you have thought of him.',\n",
       " '  BRUTUS. Now, good Metellus, go along by him.',\n",
       " '    He loves me well, and I have given him reasons;',\n",
       " \"    Send him but hither, and I'll fashion him.\",\n",
       " \"  CASSIUS. The morning comes upon 's. We'll leave you, Brutus,\",\n",
       " '    And, friends, disperse yourselves, but all remember',\n",
       " '    What you have said and show yourselves true Romans.',\n",
       " '  BRUTUS. Good gentlemen, look fresh and merrily;',\n",
       " '    Let not our looks put on our purposes,',\n",
       " '    But bear it as our Roman actors do,',\n",
       " '    With untired spirits and formal constancy. ',\n",
       " '    And so, good morrow to you every one.',\n",
       " '                                          Exeunt all but Brutus.',\n",
       " '    Boy! Lucius! Fast asleep? It is no matter.',\n",
       " '    Enjoy the honey-heavy dew of slumber;',\n",
       " '    Thou hast no figures nor no fantasies,',\n",
       " '    Which busy care draws in the brains of men;',\n",
       " \"    Therefore thou sleep'st so sound.\",\n",
       " '',\n",
       " '                           Enter Portia.',\n",
       " '',\n",
       " '  PORTIA. Brutus, my lord!',\n",
       " ...]"
      ]
     },
     "execution_count": 36,
     "metadata": {},
     "output_type": "execute_result"
    }
   ],
   "source": [
    "# your turn\n",
    "with open('./sparklect/english.stop.txt','r') as f:\n",
    "    words = f.read()\n",
    "wdlist = words.split('\\n')\n",
    "print(wdlist)\n",
    "juliusrdd = sc.textFile('./sparklect/shakes/juliuscaesar.txt')\n",
    "juliusrdd.collect()"
   ]
  },
  {
   "cell_type": "markdown",
   "metadata": {},
   "source": [
    "How many words does Julius Caesar have? *Hint: use `flatMap()`*."
   ]
  },
  {
   "cell_type": "code",
   "execution_count": 53,
   "metadata": {},
   "outputs": [
    {
     "data": {
      "text/plain": [
       "4986"
      ]
     },
     "execution_count": 53,
     "metadata": {},
     "output_type": "execute_result"
    }
   ],
   "source": [
    "# your turn\n",
    "j_wds = juliusrdd.flatMap(lambda line: line.split())\\\n",
    "                    .filter(lambda x: x !='\"')\\\n",
    "                    .distinct()\n",
    "                    \n",
    "j_wds.count()"
   ]
  },
  {
   "cell_type": "markdown",
   "metadata": {},
   "source": [
    "Now print the first 20 words of Julius Caesar as a Python list."
   ]
  },
  {
   "cell_type": "code",
   "execution_count": 54,
   "metadata": {},
   "outputs": [
    {
     "data": {
      "text/plain": [
       "['1599',\n",
       " 'TRAGEDY',\n",
       " 'OF',\n",
       " 'JULIUS',\n",
       " 'Shakespeare',\n",
       " 'Dramatis',\n",
       " 'Personae',\n",
       " 'statesman',\n",
       " 'OCTAVIUS,',\n",
       " 'after',\n",
       " 'death,',\n",
       " 'Caesar,',\n",
       " 'of',\n",
       " 'ANTONY,',\n",
       " 'his',\n",
       " 'third',\n",
       " 'MARCUS',\n",
       " 'BRUTUS,',\n",
       " 'leader',\n",
       " 'against']"
      ]
     },
     "execution_count": 54,
     "metadata": {},
     "output_type": "execute_result"
    }
   ],
   "source": [
    "# your turn\n",
    "j_wds.take(20)\n"
   ]
  },
  {
   "cell_type": "markdown",
   "metadata": {},
   "source": [
    "Now print the first 20 words of Julius Caesar, **after removing all the stopwords**. *Hint: use `filter()`*."
   ]
  },
  {
   "cell_type": "code",
   "execution_count": 58,
   "metadata": {},
   "outputs": [
    {
     "data": {
      "text/plain": [
       "['1599',\n",
       " 'TRAGEDY',\n",
       " 'JULIUS',\n",
       " 'Shakespeare',\n",
       " 'Dramatis',\n",
       " 'Personae',\n",
       " 'statesman',\n",
       " 'OCTAVIUS,',\n",
       " 'death,',\n",
       " 'Caesar,',\n",
       " 'ANTONY,',\n",
       " 'MARCUS',\n",
       " 'BRUTUS,',\n",
       " 'leader',\n",
       " 'Caesar',\n",
       " 'CASSIUS,',\n",
       " 'instigator',\n",
       " 'CASCA,',\n",
       " 'LIGARIUS,',\n",
       " 'DECIUS']"
      ]
     },
     "execution_count": 58,
     "metadata": {},
     "output_type": "execute_result"
    }
   ],
   "source": [
    "# your turn\n",
    "j_wds.filter(lambda x : x.lower() not in wdlist).take(20)\n"
   ]
  },
  {
   "cell_type": "markdown",
   "metadata": {},
   "source": [
    "Now, use the word counting MapReduce code you've seen before. Count the number of times each word occurs and print the top 20 results as a list of tuples of the form `(word, count)`. *Hint: use `takeOrdered()` instead of `take()`*"
   ]
  },
  {
   "cell_type": "code",
   "execution_count": 69,
   "metadata": {},
   "outputs": [
    {
     "data": {
      "text/plain": [
       "[('and', 632),\n",
       " ('the', 612),\n",
       " ('i', 497),\n",
       " ('to', 416),\n",
       " ('of', 385),\n",
       " ('you', 313),\n",
       " ('that', 273),\n",
       " ('a', 267),\n",
       " ('is', 248),\n",
       " ('in', 223),\n",
       " ('not', 213),\n",
       " ('brutus.', 211),\n",
       " ('my', 189),\n",
       " ('he', 184),\n",
       " ('for', 177),\n",
       " ('with', 162),\n",
       " ('his', 160),\n",
       " ('it', 154),\n",
       " ('be', 152),\n",
       " ('cassius.', 152)]"
      ]
     },
     "execution_count": 69,
     "metadata": {},
     "output_type": "execute_result"
    }
   ],
   "source": [
    "# your turn\n",
    "counts = juliusrdd.flatMap(lambda line: line.split()) \\\n",
    "             .filter(lambda x: x !='\"')\\\n",
    "             .map(lambda word: (word.lower(), 1)) \\\n",
    "             .reduceByKey(lambda a, b: a + b)\n",
    "top_20 = counts.takeOrdered(20, key=lambda x: -x[1])\n",
    "top_20"
   ]
  },
  {
   "cell_type": "markdown",
   "metadata": {},
   "source": [
    "Plot a bar graph. For each of the top 20 words on the X axis, represent the count on the Y axis."
   ]
  },
  {
   "cell_type": "code",
   "execution_count": 78,
   "metadata": {},
   "outputs": [
    {
     "data": {
      "text/plain": [
       "<matplotlib.text.Text at 0xc690390>"
      ]
     },
     "execution_count": 78,
     "metadata": {},
     "output_type": "execute_result"
    },
    {
     "data": {
      "image/png": "[encoded data removed]",
      "text/plain": [
       "<matplotlib.figure.Figure at 0xc7b0320>"
      ]
     },
     "metadata": {},
     "output_type": "display_data"
    }
   ],
   "source": [
    "# your turn\n",
    "import matplotlib.pyplot as plt\n",
    "x = [i[0] for i in top_20]\n",
    "y = [i[1] for i in top_20]\n",
    "sns.barplot(x, y)\n",
    "plt.xlabel('Words')\n",
    "plt.ylabel('Counts')"
   ]
  },
  {
   "cell_type": "markdown",
   "metadata": {},
   "source": [
    "### Using partitions for parallelization"
   ]
  },
  {
   "cell_type": "markdown",
   "metadata": {},
   "source": [
    "In order to make your code more efficient, you want to use all of the available processing power, even on a single laptop. If your machine has multiple cores, you can tune the number of partitions to use all of them! From http://www.stat.berkeley.edu/scf/paciorek-spark-2014.html:\n",
    "\n",
    ">You want each partition to be able to fit in the memory availalbe on a node, and if you have multi-core nodes, you want that as many partitions as there are cores be able to fit in memory.\n",
    "\n",
    ">For load-balancing you'll want at least as many partitions as total computational cores in your cluster and probably rather more partitions. The Spark documentation suggests 2-4 partitions (which they also seem to call slices) per CPU. Often there are 100-10,000 partitions. Another rule of thumb is that tasks should take at least 100 ms. If less than that, you may want to repartition to have fewer partitions."
   ]
  },
  {
   "cell_type": "code",
   "execution_count": 79,
   "metadata": {
    "collapsed": true
   },
   "outputs": [],
   "source": [
    "shakesrdd=sc.textFile(\"./sparklect/shakes/*.txt\", minPartitions=4)"
   ]
  },
  {
   "cell_type": "code",
   "execution_count": 80,
   "metadata": {},
   "outputs": [
    {
     "data": {
      "text/plain": [
       "['1601',\n",
       " 'AS YOU LIKE IT',\n",
       " '',\n",
       " 'by William Shakespeare',\n",
       " '',\n",
       " '',\n",
       " '',\n",
       " 'DRAMATIS PERSONAE.',\n",
       " '',\n",
       " '']"
      ]
     },
     "execution_count": 80,
     "metadata": {},
     "output_type": "execute_result"
    }
   ],
   "source": [
    "shakesrdd.take(10)"
   ]
  },
  {
   "cell_type": "markdown",
   "metadata": {},
   "source": [
    "Now calculate the top 20 words in all of the files that you just read."
   ]
  },
  {
   "cell_type": "code",
   "execution_count": 82,
   "metadata": {},
   "outputs": [
    {
     "data": {
      "text/plain": [
       "[('the', 11364),\n",
       " ('and', 10490),\n",
       " ('i', 8131),\n",
       " ('to', 7720),\n",
       " ('of', 6523),\n",
       " ('a', 5865),\n",
       " ('my', 5019),\n",
       " ('you', 4845),\n",
       " ('in', 4371),\n",
       " ('that', 4269),\n",
       " ('is', 3657),\n",
       " ('with', 3253),\n",
       " ('not', 3196),\n",
       " ('for', 3085),\n",
       " ('your', 2898),\n",
       " ('be', 2689),\n",
       " ('it', 2599),\n",
       " ('his', 2552),\n",
       " ('he', 2484),\n",
       " ('this', 2439)]"
      ]
     },
     "execution_count": 82,
     "metadata": {},
     "output_type": "execute_result"
    }
   ],
   "source": [
    "# your turn\n",
    "all_words = shakesrdd.flatMap(lambda line: line.split()) \\\n",
    "             .filter(lambda x: x !='\"')\\\n",
    "             .map(lambda word: (word.lower(), 1)) \\\n",
    "             .reduceByKey(lambda a, b: a + b)\n",
    "top_20 = all_words.takeOrdered(20, key=lambda x: -x[1])\n",
    "top_20\n"
   ]
  },
  {
   "cell_type": "markdown",
   "metadata": {},
   "source": [
    "## Optional topic 1: DataFrames\n",
    "\n",
    "Pandas and Spark dataframes can be easily converted to each other, making it easier to work with different data formats. This section shows some examples of each."
   ]
  },
  {
   "cell_type": "markdown",
   "metadata": {},
   "source": [
    "Convert Spark DataFrame to Pandas\n",
    "\n",
    "`pandas_df = spark_df.toPandas()`\n",
    "\n",
    "Create a Spark DataFrame from Pandas\n",
    "\n",
    "`spark_df = context.createDataFrame(pandas_df)`\n",
    "\n",
    "Must fit in memory.\n",
    "\n",
    "![](https://ogirardot.files.wordpress.com/2015/05/rdd-vs-dataframe.png?w=640&h=360)\n",
    "\n",
    "VERY IMPORTANT: DataFrames in Spark are like RDD in the sense that they’re an immutable data structure."
   ]
  },
  {
   "cell_type": "code",
   "execution_count": null,
   "metadata": {
    "collapsed": true
   },
   "outputs": [],
   "source": [
    "df=pd.read_csv(\"sparklect/01_heights_weights_genders.csv\")\n",
    "df.head()"
   ]
  },
  {
   "cell_type": "markdown",
   "metadata": {},
   "source": [
    "Convert this pandas dataframe to a Spark dataframe"
   ]
  },
  {
   "cell_type": "code",
   "execution_count": null,
   "metadata": {
    "collapsed": true
   },
   "outputs": [],
   "source": [
    "from pyspark.sql import SQLContext\n",
    "sqlsc=SQLContext(sc)\n",
    "sparkdf = sqlsc.createDataFrame(df)\n",
    "sparkdf"
   ]
  },
  {
   "cell_type": "code",
   "execution_count": null,
   "metadata": {
    "collapsed": true
   },
   "outputs": [],
   "source": [
    "sparkdf.show(5)"
   ]
  },
  {
   "cell_type": "code",
   "execution_count": null,
   "metadata": {
    "collapsed": true
   },
   "outputs": [],
   "source": [
    "type(sparkdf.Gender)"
   ]
  },
  {
   "cell_type": "code",
   "execution_count": null,
   "metadata": {
    "collapsed": true
   },
   "outputs": [],
   "source": [
    "temp = sparkdf.map(lambda r: r.Gender)\n",
    "print type(temp)\n",
    "temp.take(10)"
   ]
  },
  {
   "cell_type": "markdown",
   "metadata": {},
   "source": [
    "## Optional topic 2: Machine Learning using Spark\n",
    "\n",
    "While we don't go in-depth into machine learning using spark here, this sample code will help you get started."
   ]
  },
  {
   "cell_type": "code",
   "execution_count": null,
   "metadata": {
    "collapsed": true
   },
   "outputs": [],
   "source": [
    "from pyspark.mllib.classification import LogisticRegressionWithLBFGS\n",
    "from pyspark.mllib.regression import LabeledPoint"
   ]
  },
  {
   "cell_type": "markdown",
   "metadata": {},
   "source": [
    "Now create a data set from the Spark dataframe"
   ]
  },
  {
   "cell_type": "code",
   "execution_count": null,
   "metadata": {
    "collapsed": true
   },
   "outputs": [],
   "source": [
    "data=sparkdf.map(lambda row: LabeledPoint(row.Gender=='Male',[row.Height, row.Weight]))\n",
    "data.take(5)"
   ]
  },
  {
   "cell_type": "code",
   "execution_count": null,
   "metadata": {
    "collapsed": true
   },
   "outputs": [],
   "source": [
    "data2=sparkdf.map(lambda row: LabeledPoint(row[0]=='Male',row[1:]))\n",
    "data2.take(1)[0].label, data2.take(1)[0].features"
   ]
  },
  {
   "cell_type": "markdown",
   "metadata": {},
   "source": [
    "Split the data set into training and test sets"
   ]
  },
  {
   "cell_type": "code",
   "execution_count": null,
   "metadata": {
    "collapsed": true
   },
   "outputs": [],
   "source": [
    "train, test = data.randomSplit([0.7,0.3])\n",
    "train.cache()\n",
    "test.cache()"
   ]
  },
  {
   "cell_type": "code",
   "execution_count": null,
   "metadata": {
    "collapsed": true
   },
   "outputs": [],
   "source": [
    "type(train)"
   ]
  },
  {
   "cell_type": "markdown",
   "metadata": {},
   "source": [
    "Train the logistic regression model using MLIB"
   ]
  },
  {
   "cell_type": "code",
   "execution_count": null,
   "metadata": {
    "collapsed": true
   },
   "outputs": [],
   "source": [
    "model = LogisticRegressionWithLBFGS.train(train)"
   ]
  },
  {
   "cell_type": "code",
   "execution_count": null,
   "metadata": {
    "collapsed": true
   },
   "outputs": [],
   "source": [
    "model.weights"
   ]
  },
  {
   "cell_type": "markdown",
   "metadata": {},
   "source": [
    "Run it on the test data"
   ]
  },
  {
   "cell_type": "code",
   "execution_count": null,
   "metadata": {
    "collapsed": true
   },
   "outputs": [],
   "source": [
    "results = test.map(lambda lp: (lp.label, float(model.predict(lp.features))))\n",
    "print results.take(10)\n",
    "type(results)                       "
   ]
  },
  {
   "cell_type": "markdown",
   "metadata": {},
   "source": [
    "Measure accuracy and other metrics"
   ]
  },
  {
   "cell_type": "code",
   "execution_count": null,
   "metadata": {
    "collapsed": true
   },
   "outputs": [],
   "source": [
    "test_accuracy=results.filter(lambda (a,p): a==p).count()/float(results.count())\n",
    "test_accuracy"
   ]
  },
  {
   "cell_type": "code",
   "execution_count": null,
   "metadata": {
    "collapsed": true
   },
   "outputs": [],
   "source": [
    "from pyspark.mllib.evaluation import BinaryClassificationMetrics\n",
    "metrics = BinaryClassificationMetrics(results)"
   ]
  },
  {
   "cell_type": "code",
   "execution_count": null,
   "metadata": {
    "collapsed": true
   },
   "outputs": [],
   "source": [
    "print type(metrics)\n",
    "metrics.areaUnderROC"
   ]
  },
  {
   "cell_type": "code",
   "execution_count": null,
   "metadata": {
    "collapsed": true
   },
   "outputs": [],
   "source": [
    "type(model)"
   ]
  },
  {
   "cell_type": "code",
   "execution_count": null,
   "metadata": {
    "collapsed": true
   },
   "outputs": [],
   "source": [
    "!rm -rf mylogistic.model"
   ]
  },
  {
   "cell_type": "code",
   "execution_count": null,
   "metadata": {
    "collapsed": true
   },
   "outputs": [],
   "source": [
    "model.save(sc, \"mylogistic.model\")"
   ]
  },
  {
   "cell_type": "markdown",
   "metadata": {},
   "source": [
    "The pipeline API automates a lot of this stuff, allowing us to work directly on dataframes. It is not all supported in Python, as yet. "
   ]
  },
  {
   "cell_type": "markdown",
   "metadata": {},
   "source": [
    "Also see:\n",
    "\n",
    "- http://jordicasanellas.weebly.com/data-science-blog/machine-learning-with-spark\n",
    "- http://spark.apache.org/docs/latest/mllib-guide.html\n",
    "- http://www.techpoweredmath.com/spark-dataframes-mllib-tutorial/\n",
    "- http://spark.apache.org/docs/latest/api/python/\n",
    "- http://spark.apache.org/docs/latest/programming-guide.html"
   ]
  },
  {
   "cell_type": "markdown",
   "metadata": {},
   "source": [
    "`rdd.saveAsTextFile()` saves an RDD as a string."
   ]
  },
  {
   "cell_type": "code",
   "execution_count": null,
   "metadata": {
    "collapsed": true
   },
   "outputs": [],
   "source": [
    "sc.stop()"
   ]
  },
  {
   "cell_type": "code",
   "execution_count": null,
   "metadata": {
    "collapsed": true
   },
   "outputs": [],
   "source": []
  }
 ],
 "metadata": {
  "kernelspec": {
   "display_name": "Python 3",
   "language": "python",
   "name": "python3"
  },
  "language_info": {
   "codemirror_mode": {
    "name": "ipython",
    "version": 3
   },
   "file_extension": ".py",
   "mimetype": "text/x-python",
   "name": "python",
   "nbconvert_exporter": "python",
   "pygments_lexer": "ipython3",
   "version": "3.6.1"
  }
 },
 "nbformat": 4,
 "nbformat_minor": 1
}
